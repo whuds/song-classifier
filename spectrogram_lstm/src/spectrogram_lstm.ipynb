{
 "cells": [
  {
   "cell_type": "markdown",
   "metadata": {},
   "source": [
    "# LSTM Genre Identification\n",
    "\n",
    "Take in audio files and feed them through a Long-Short Term Memory Neural Network (CNN)"
   ]
  },
  {
   "cell_type": "code",
   "execution_count": 1,
   "metadata": {},
   "outputs": [
    {
     "name": "stderr",
     "output_type": "stream",
     "text": [
      "C:\\Users\\Daniel\\Anaconda3\\lib\\site-packages\\tqdm\\autonotebook\\__init__.py:14: TqdmExperimentalWarning: Using `tqdm.autonotebook.tqdm` in notebook mode. Use `tqdm.tqdm` instead to force console mode (e.g. in jupyter console)\n",
      "  \" (e.g. in jupyter console)\", TqdmExperimentalWarning)\n"
     ]
    },
    {
     "ename": "ModuleNotFoundError",
     "evalue": "No module named 'tensorflow'",
     "output_type": "error",
     "traceback": [
      "\u001b[1;31m---------------------------------------------------------------------------\u001b[0m",
      "\u001b[1;31mModuleNotFoundError\u001b[0m                       Traceback (most recent call last)",
      "\u001b[1;32m<ipython-input-1-2caf4ad0ade7>\u001b[0m in \u001b[0;36m<module>\u001b[1;34m\u001b[0m\n\u001b[0;32m     22\u001b[0m \u001b[1;33m\u001b[0m\u001b[0m\n\u001b[0;32m     23\u001b[0m \u001b[1;31m# Deep Learning packages\u001b[0m\u001b[1;33m\u001b[0m\u001b[1;33m\u001b[0m\u001b[1;33m\u001b[0m\u001b[0m\n\u001b[1;32m---> 24\u001b[1;33m \u001b[1;32mimport\u001b[0m \u001b[0mtensorflow\u001b[0m \u001b[1;32mas\u001b[0m \u001b[0mtf\u001b[0m\u001b[1;33m\u001b[0m\u001b[1;33m\u001b[0m\u001b[0m\n\u001b[0m",
      "\u001b[1;31mModuleNotFoundError\u001b[0m: No module named 'tensorflow'"
     ]
    }
   ],
   "source": [
    "# Reload modules I'm working on\n",
    "%load_ext autoreload\n",
    "%autoreload 2\n",
    "\n",
    "# IPython specific\n",
    "%matplotlib inline\n",
    "import IPython.display\n",
    "from ipywidgets import interact, interactive, fixed\n",
    "\n",
    "# required packages\n",
    "import numpy as np\n",
    "import matplotlib.pyplot as plt\n",
    "import librosa\n",
    "import librosa.display\n",
    "from tqdm.autonotebook import tqdm\n",
    "import os\n",
    "from utils import profile\n",
    "\n",
    "import copy\n",
    "from scipy.io import wavfile\n",
    "import scipy.ndimage\n",
    "\n",
    "# Deep Learning packages\n",
    "import tensorflow as tf"
   ]
  },
  {
   "cell_type": "markdown",
   "metadata": {},
   "source": [
    "## Parameters"
   ]
  },
  {
   "cell_type": "code",
   "execution_count": null,
   "metadata": {},
   "outputs": [],
   "source": [
    "FFT_SIZE = 2048\n",
    "MELS = 128\n",
    "RATE = 22050\n",
    "EPOCHS = 20\n",
    "FILES_PATH = \"audio_files/genres\"\n",
    "FILES_NUM = 1\n",
    "MODEL_DIR = \"models/saved_models\""
   ]
  },
  {
   "cell_type": "markdown",
   "metadata": {},
   "source": [
    "## Parameters (cont'd)"
   ]
  },
  {
   "cell_type": "code",
   "execution_count": 3,
   "metadata": {},
   "outputs": [],
   "source": [
    "GENRES = ['blues','classical','country','disco','hiphop','jazz','metal','pop','reggae','rock']\n",
    "TRAIN_SPLIT = 0.9\n",
    "\n",
    "TRAIN_BUFFER_SIZE = 1000\n",
    "\n",
    "tf.random.set_seed(777)\n",
    "np.random.seed(9)"
   ]
  },
  {
   "cell_type": "markdown",
   "metadata": {},
   "source": [
    "## Load Training and Test Data\n",
    "\n",
    "Uses the files in `./${FILE_PATH}` to create test data"
   ]
  },
  {
   "cell_type": "code",
   "execution_count": 4,
   "metadata": {},
   "outputs": [
    {
     "name": "stdout",
     "output_type": "stream",
     "text": [
      "Loading data...\n",
      "Genre:  audio_files/genres/blues\n"
     ]
    },
    {
     "data": {
      "application/vnd.jupyter.widget-view+json": {
       "model_id": "6f8c33ab86d84f0195d8202bcbc640d4",
       "version_major": 2,
       "version_minor": 0
      },
      "text/plain": [
       "HBox(children=(IntProgress(value=0, max=1), HTML(value='')))"
      ]
     },
     "metadata": {},
     "output_type": "display_data"
    },
    {
     "name": "stdout",
     "output_type": "stream",
     "text": [
      "\n",
      "Genre:  audio_files/genres/classical\n"
     ]
    },
    {
     "data": {
      "application/vnd.jupyter.widget-view+json": {
       "model_id": "420993b341844584a3ce0b32967badc3",
       "version_major": 2,
       "version_minor": 0
      },
      "text/plain": [
       "HBox(children=(IntProgress(value=0, max=1), HTML(value='')))"
      ]
     },
     "metadata": {},
     "output_type": "display_data"
    },
    {
     "name": "stdout",
     "output_type": "stream",
     "text": [
      "\n",
      "Genre:  audio_files/genres/country\n"
     ]
    },
    {
     "data": {
      "application/vnd.jupyter.widget-view+json": {
       "model_id": "a5aff93133ab40ad9f424e69ab70356a",
       "version_major": 2,
       "version_minor": 0
      },
      "text/plain": [
       "HBox(children=(IntProgress(value=0, max=1), HTML(value='')))"
      ]
     },
     "metadata": {},
     "output_type": "display_data"
    },
    {
     "name": "stdout",
     "output_type": "stream",
     "text": [
      "\n",
      "Genre:  audio_files/genres/disco\n"
     ]
    },
    {
     "data": {
      "application/vnd.jupyter.widget-view+json": {
       "model_id": "e1da0dac8a50435fbb29a03564c37e29",
       "version_major": 2,
       "version_minor": 0
      },
      "text/plain": [
       "HBox(children=(IntProgress(value=0, max=1), HTML(value='')))"
      ]
     },
     "metadata": {},
     "output_type": "display_data"
    },
    {
     "name": "stdout",
     "output_type": "stream",
     "text": [
      "\n",
      "Genre:  audio_files/genres/hiphop\n"
     ]
    },
    {
     "data": {
      "application/vnd.jupyter.widget-view+json": {
       "model_id": "bd150dd6531f464cb69d172f247baf8e",
       "version_major": 2,
       "version_minor": 0
      },
      "text/plain": [
       "HBox(children=(IntProgress(value=0, max=1), HTML(value='')))"
      ]
     },
     "metadata": {},
     "output_type": "display_data"
    },
    {
     "name": "stdout",
     "output_type": "stream",
     "text": [
      "\n",
      "Genre:  audio_files/genres/jazz\n"
     ]
    },
    {
     "data": {
      "application/vnd.jupyter.widget-view+json": {
       "model_id": "6886d6015da944e78f1de21b27848289",
       "version_major": 2,
       "version_minor": 0
      },
      "text/plain": [
       "HBox(children=(IntProgress(value=0, max=1), HTML(value='')))"
      ]
     },
     "metadata": {},
     "output_type": "display_data"
    },
    {
     "name": "stdout",
     "output_type": "stream",
     "text": [
      "\n",
      "Genre:  audio_files/genres/metal\n"
     ]
    },
    {
     "data": {
      "application/vnd.jupyter.widget-view+json": {
       "model_id": "0bf7feef71984117bfeec6a8833a59bc",
       "version_major": 2,
       "version_minor": 0
      },
      "text/plain": [
       "HBox(children=(IntProgress(value=0, max=1), HTML(value='')))"
      ]
     },
     "metadata": {},
     "output_type": "display_data"
    },
    {
     "name": "stdout",
     "output_type": "stream",
     "text": [
      "\n",
      "Genre:  audio_files/genres/pop\n"
     ]
    },
    {
     "data": {
      "application/vnd.jupyter.widget-view+json": {
       "model_id": "aa0d3c7371794f8dbc90d787ef25b40f",
       "version_major": 2,
       "version_minor": 0
      },
      "text/plain": [
       "HBox(children=(IntProgress(value=0, max=1), HTML(value='')))"
      ]
     },
     "metadata": {},
     "output_type": "display_data"
    },
    {
     "name": "stdout",
     "output_type": "stream",
     "text": [
      "\n",
      "Genre:  audio_files/genres/reggae\n"
     ]
    },
    {
     "data": {
      "application/vnd.jupyter.widget-view+json": {
       "model_id": "6b4456e3d8384969b9b8bc1f0cf9171f",
       "version_major": 2,
       "version_minor": 0
      },
      "text/plain": [
       "HBox(children=(IntProgress(value=0, max=1), HTML(value='')))"
      ]
     },
     "metadata": {},
     "output_type": "display_data"
    },
    {
     "name": "stdout",
     "output_type": "stream",
     "text": [
      "\n",
      "Genre:  audio_files/genres/rock\n"
     ]
    },
    {
     "data": {
      "application/vnd.jupyter.widget-view+json": {
       "model_id": "81a36fbb4d4c4400a91d05634dfe1ad3",
       "version_major": 2,
       "version_minor": 0
      },
      "text/plain": [
       "HBox(children=(IntProgress(value=0, max=1), HTML(value='')))"
      ]
     },
     "metadata": {},
     "output_type": "display_data"
    },
    {
     "name": "stdout",
     "output_type": "stream",
     "text": [
      "\n"
     ]
    }
   ],
   "source": [
    "print(\"Loading data...\")\n",
    "\n",
    "extension = '.wav'\n",
    "\n",
    "transformed_data = []\n",
    "\n",
    "for label, genre in enumerate(GENRES):\n",
    "    new_dir = FILES_PATH + '/' + genre\n",
    "    print(\"Genre: \", new_dir)\n",
    "\n",
    "    for n in tqdm(range(FILES_NUM)):\n",
    "        file_name = f\"{genre}.{n:05}{extension}\"\n",
    "        try:\n",
    "            samples, _ = librosa.load(f\"{FILES_PATH}/{genre}/{file_name}\", sr=RATE, mono=True)\n",
    "            # print(\"Length:\", len(samples) / RATE, \"seconds, samples:\", len(samples))\n",
    "        except:\n",
    "            continue\n",
    "        audio_data = librosa.feature.melspectrogram(np.asfortranarray(samples), sr=RATE, n_fft=FFT_SIZE, n_mels=MELS)\n",
    "        # audio_data = librosa.power_to_db(audio_data, ref=np.max)\n",
    "        # print(audio_data.shape)\n",
    "        transformed_data.append((np.swapaxes(audio_data, 0, 1), label))"
   ]
  },
  {
   "cell_type": "markdown",
   "metadata": {},
   "source": [
    "## Look at data"
   ]
  },
  {
   "cell_type": "code",
   "execution_count": 5,
   "metadata": {},
   "outputs": [
    {
     "name": "stdout",
     "output_type": "stream",
     "text": [
      "Number Wav Files Loaded: 10\n"
     ]
    }
   ],
   "source": [
    "print(\"Number Wav Files Loaded:\", len(transformed_data))\n",
    "\n",
    "# for x in transformed_data:\n",
    "#     print(\"label:\", GENRES[x[1]], \"| data.shape =\", x[0].shape)"
   ]
  },
  {
   "cell_type": "markdown",
   "metadata": {},
   "source": [
    "## Draw a spectrogram"
   ]
  },
  {
   "cell_type": "code",
   "execution_count": 6,
   "metadata": {},
   "outputs": [
    {
     "ename": "IndexError",
     "evalue": "list index out of range",
     "output_type": "error",
     "traceback": [
      "\u001b[1;31m---------------------------------------------------------------------------\u001b[0m",
      "\u001b[1;31mIndexError\u001b[0m                                Traceback (most recent call last)",
      "\u001b[1;32m<ipython-input-6-8b5798a6e718>\u001b[0m in \u001b[0;36m<module>\u001b[1;34m\u001b[0m\n\u001b[1;32m----> 1\u001b[1;33m \u001b[0mlibrosa\u001b[0m\u001b[1;33m.\u001b[0m\u001b[0mdisplay\u001b[0m\u001b[1;33m.\u001b[0m\u001b[0mspecshow\u001b[0m\u001b[1;33m(\u001b[0m\u001b[0mlibrosa\u001b[0m\u001b[1;33m.\u001b[0m\u001b[0mpower_to_db\u001b[0m\u001b[1;33m(\u001b[0m\u001b[0mtransformed_data\u001b[0m\u001b[1;33m[\u001b[0m\u001b[1;36m250\u001b[0m\u001b[1;33m]\u001b[0m\u001b[1;33m[\u001b[0m\u001b[1;36m0\u001b[0m\u001b[1;33m]\u001b[0m\u001b[1;33m,\u001b[0m \u001b[0mref\u001b[0m\u001b[1;33m=\u001b[0m\u001b[0mnp\u001b[0m\u001b[1;33m.\u001b[0m\u001b[0mmax\u001b[0m\u001b[1;33m)\u001b[0m\u001b[1;33m.\u001b[0m\u001b[0mT\u001b[0m\u001b[1;33m,\u001b[0m \u001b[0mx_axis\u001b[0m\u001b[1;33m=\u001b[0m\u001b[1;34m\"time\"\u001b[0m\u001b[1;33m,\u001b[0m \u001b[0my_axis\u001b[0m\u001b[1;33m=\u001b[0m\u001b[1;34m\"mel\"\u001b[0m\u001b[1;33m,\u001b[0m \u001b[0msr\u001b[0m\u001b[1;33m=\u001b[0m\u001b[0mRATE\u001b[0m\u001b[1;33m,\u001b[0m \u001b[0mfmax\u001b[0m\u001b[1;33m=\u001b[0m\u001b[1;36m8000\u001b[0m\u001b[1;33m)\u001b[0m\u001b[1;33m\u001b[0m\u001b[1;33m\u001b[0m\u001b[0m\n\u001b[0m",
      "\u001b[1;31mIndexError\u001b[0m: list index out of range"
     ]
    }
   ],
   "source": [
    "librosa.display.specshow(librosa.power_to_db(transformed_data[0][0], ref=np.max).T, x_axis=\"time\", y_axis=\"mel\", sr=RATE, fmax=8000)"
   ]
  },
  {
   "cell_type": "markdown",
   "metadata": {},
   "source": [
    "### Set up training and test batch"
   ]
  },
  {
   "cell_type": "code",
   "execution_count": 44,
   "metadata": {},
   "outputs": [
    {
     "name": "stdout",
     "output_type": "stream",
     "text": [
      "(900, 1290, 128)\n",
      "(900,)\n",
      "(100, 1292, 128)\n",
      "(100,)\n"
     ]
    }
   ],
   "source": [
    "# (x_train, y_train), (x_test, y_test) = mnist.load_data()\n",
    "# x_train, x_test = x_train / 255.0, x_test / 255.0\n",
    "\n",
    "from parse_data import create_batch_from_file\n",
    "\n",
    "# minimum_length = min([x[\"data\"].shape[0] for x in transformed_data])\n",
    "def min_sample_len(data_list):\n",
    "    return min([x.shape[0] for x in data_list])\n",
    "\n",
    "def truncate_samples(data_list):\n",
    "    min_len = min_sample_len(data_list)\n",
    "    return list(map(lambda data: data[0:min_len], data_list))\n",
    "\n",
    "# for data in transformed_data:\n",
    "#     # data[\"data\"] = data[\"data\"][0:minimum_length]\n",
    "#     data[0] = data[0][0:minimum_length]\n",
    "\n",
    "val_indices = np.random.choice(len(transformed_data), int(round(len(transformed_data) * (1.0 - TRAIN_SPLIT))), replace=False)\n",
    "train_indices = list(filter(lambda ind: ind not in val_indices, range(len(transformed_data))))\n",
    "\n",
    "# print(test_indices)\n",
    "# print([transformed_data[x][1] for x in test_indices])\n",
    "\n",
    "def separate_into_lists(data_list, indices):\n",
    "    datas = []\n",
    "    labels = []\n",
    "    for ind in indices:\n",
    "        x, y = data_list[ind]\n",
    "        datas.append(x)\n",
    "        labels.append(y)\n",
    "    return datas, labels\n",
    "\n",
    "def prepare_data(transformed_data, indices):\n",
    "    data, labels = separate_into_lists(transformed_data, indices)\n",
    "    data = truncate_samples(data)\n",
    "\n",
    "    data = np.stack(data, axis=0)\n",
    "    labels = np.stack(labels, axis=0)\n",
    "    \n",
    "    return data.astype('float64'), labels.astype('float64')\n",
    "\n",
    "x_train, y_train = prepare_data(transformed_data, train_indices)\n",
    "x_val, y_val = prepare_data(transformed_data, val_indices)\n",
    "\n",
    "print(x_train.shape)\n",
    "print(y_train.shape)\n",
    "print(x_val.shape)\n",
    "print(y_val.shape)\n",
    "\n",
    "# batch = np.stack(tuple(x[0] for x in transformed_data), axis=0)\n",
    "# batches = np.split(batch, 10, axis=0)\n",
    "# len(batches[0])"
   ]
  },
  {
   "cell_type": "markdown",
   "metadata": {},
   "source": [
    "### Build the LSTM\n",
    "\n",
    "using code in `model/lstm.py`"
   ]
  },
  {
   "cell_type": "code",
   "execution_count": 45,
   "metadata": {},
   "outputs": [],
   "source": [
    "from models.lstm import MusicGenreModel_v0, MusicGenreModel_v1, MusicGenreModel_v2\n",
    "\n",
    "model = MusicGenreModel_v2()\n",
    "\n",
    "loss_object = tf.keras.losses.SparseCategoricalCrossentropy()\n",
    "optimizer = tf.keras.optimizers.Adam(learning_rate=0.01)\n",
    "\n",
    "train_loss = tf.keras.metrics.Mean(name=\"train_loss\")\n",
    "train_accuracy = tf.keras.metrics.SparseCategoricalAccuracy(name=\"train_accuracy\")\n",
    "\n",
    "val_loss = tf.keras.metrics.Mean(name=\"val_loss\")\n",
    "val_accuracy = tf.keras.metrics.SparseCategoricalAccuracy(name=\"val_accuracy\")\n",
    "\n",
    "test_loss = tf.keras.metrics.Mean(name=\"test_loss\")\n",
    "test_accuracy = tf.keras.metrics.SparseCategoricalAccuracy(name=\"test_accuracy\")"
   ]
  },
  {
   "cell_type": "markdown",
   "metadata": {},
   "source": [
    "Create instance of model"
   ]
  },
  {
   "cell_type": "code",
   "execution_count": 26,
   "metadata": {},
   "outputs": [
    {
     "name": "stdout",
     "output_type": "stream",
     "text": [
      "Input Shape: (64, 1290, 128)\n",
      "actuals [0. 0. 0. 0. 0. 0. 0. 0. 0. 0. 0. 0. 0. 0. 0. 0. 0. 0. 0. 0. 0. 0. 0. 0.\n",
      " 0. 0. 0. 0. 0. 0. 0. 0. 0. 0. 0. 0. 0. 0. 0. 0. 0. 0. 0. 0. 0. 0. 0. 0.\n",
      " 0. 0. 0. 0. 0. 0. 0. 0. 0. 0. 0. 0. 0. 0. 0. 0.]\n",
      "1.4261858463287354 seconds\n"
     ]
    },
    {
     "data": {
      "text/plain": [
       "<tf.Tensor: id=86863, shape=(64,), dtype=int64, numpy=\n",
       "array([0, 0, 0, 0, 0, 0, 0, 9, 0, 5, 0, 0, 0, 5, 5, 7, 0, 0, 0, 0, 0, 0,\n",
       "       0, 0, 5, 0, 0, 0, 9, 0, 0, 2, 0, 0, 0, 0, 0, 0, 9, 0, 0, 0, 2, 0,\n",
       "       0, 0, 4, 0, 5, 0, 0, 0, 0, 0, 4, 0, 0, 0, 0, 0, 0, 0, 9, 0],\n",
       "      dtype=int64)>"
      ]
     },
     "execution_count": 26,
     "metadata": {},
     "output_type": "execute_result"
    }
   ],
   "source": [
    "print(\"Input Shape:\", x_train[0:64].shape)\n",
    "print(\"actuals\", y_train[0:64])\n",
    "\n",
    "@profile\n",
    "def predict():\n",
    "    return model(x_train[0:64].astype('float64'))\n",
    "\n",
    "prediction = predict()\n",
    "\n",
    "tf.argmax(prediction, axis=1)\n",
    "# loss_value = loss_object(labels, predictions)"
   ]
  },
  {
   "cell_type": "markdown",
   "metadata": {},
   "source": [
    "### Load Trained Weights"
   ]
  },
  {
   "cell_type": "code",
   "execution_count": 47,
   "metadata": {},
   "outputs": [],
   "source": [
    "model = tf.saved_model.load(f'{MODEL_DIR}/{model.__class__.__name__}')"
   ]
  },
  {
   "cell_type": "markdown",
   "metadata": {},
   "source": [
    "## Train"
   ]
  },
  {
   "cell_type": "code",
   "execution_count": 48,
   "metadata": {},
   "outputs": [],
   "source": [
    "from machine_learning.ml_operations import ml_closure\n",
    "\n",
    "run_epoch, train_step, val_step = ml_closure(model, loss_object, optimizer, train_loss, train_accuracy, val_loss, val_accuracy)\n",
    "run_epoch = profile(run_epoch)\n",
    "\n",
    "train_dataset = tf.data.Dataset.from_tensor_slices((x_train, y_train)).shuffle(TRAIN_BUFFER_SIZE).batch(64)\n",
    "val_dataset = tf.data.Dataset.from_tensor_slices((x_val, y_val)).batch(64)"
   ]
  },
  {
   "cell_type": "code",
   "execution_count": 49,
   "metadata": {},
   "outputs": [
    {
     "data": {
      "application/vnd.jupyter.widget-view+json": {
       "model_id": "d13bcbed5bfd4b1eb3bc7bd9620dd440",
       "version_major": 2,
       "version_minor": 0
      },
      "text/plain": [
       "HBox(children=(IntProgress(value=0, max=20), HTML(value='')))"
      ]
     },
     "metadata": {},
     "output_type": "display_data"
    },
    {
     "ename": "StagingError",
     "evalue": "in converted code:\n    relative to C:\\Users\\Daniel:\n\n    Documents\\CS 6220\\Project\\src\\machine_learning\\ml_operations.py:34 train_step  *\n        grads = tape.gradient(loss_value, model.trainable_variables)\n    Anaconda3\\envs\\cs6220\\lib\\site-packages\\tensorflow_core\\python\\eager\\backprop.py:1014 gradient\n        unconnected_gradients=unconnected_gradients)\n    Anaconda3\\envs\\cs6220\\lib\\site-packages\\tensorflow_core\\python\\eager\\imperative_grad.py:76 imperative_grad\n        compat.as_str(unconnected_gradients.value))\n    Anaconda3\\envs\\cs6220\\lib\\site-packages\\tensorflow_core\\python\\eager\\function.py:738 _backward_function\n        return self._rewrite_forward_and_call_backward(call_op, *args)\n    Anaconda3\\envs\\cs6220\\lib\\site-packages\\tensorflow_core\\python\\eager\\function.py:661 _rewrite_forward_and_call_backward\n        forward_function, backwards_function = self.forward_backward(len(doutputs))\n    Anaconda3\\envs\\cs6220\\lib\\site-packages\\tensorflow_core\\python\\eager\\function.py:582 forward_backward\n        forward, backward = self._construct_forward_backward(num_doutputs)\n    Anaconda3\\envs\\cs6220\\lib\\site-packages\\tensorflow_core\\python\\eager\\function.py:629 _construct_forward_backward\n        func_graph=backwards_graph)\n    Anaconda3\\envs\\cs6220\\lib\\site-packages\\tensorflow_core\\python\\framework\\func_graph.py:915 func_graph_from_py_func\n        func_outputs = python_func(*func_args, **func_kwargs)\n    Anaconda3\\envs\\cs6220\\lib\\site-packages\\tensorflow_core\\python\\eager\\function.py:619 _backprop_function\n        src_graph=self._func_graph)\n    Anaconda3\\envs\\cs6220\\lib\\site-packages\\tensorflow_core\\python\\ops\\gradients_util.py:679 _GradientsHelper\n        lambda: grad_fn(op, *out_grads))\n    Anaconda3\\envs\\cs6220\\lib\\site-packages\\tensorflow_core\\python\\ops\\gradients_util.py:350 _MaybeCompile\n        return grad_fn()  # Exit early\n    Anaconda3\\envs\\cs6220\\lib\\site-packages\\tensorflow_core\\python\\ops\\gradients_util.py:679 <lambda>\n        lambda: grad_fn(op, *out_grads))\n    Anaconda3\\envs\\cs6220\\lib\\site-packages\\tensorflow_core\\python\\eager\\function.py:715 _registered_grad_fn\n        return self._rewrite_forward_and_call_backward(op, *doutputs)\n    Anaconda3\\envs\\cs6220\\lib\\site-packages\\tensorflow_core\\python\\eager\\function.py:661 _rewrite_forward_and_call_backward\n        forward_function, backwards_function = self.forward_backward(len(doutputs))\n    Anaconda3\\envs\\cs6220\\lib\\site-packages\\tensorflow_core\\python\\eager\\function.py:582 forward_backward\n        forward, backward = self._construct_forward_backward(num_doutputs)\n    Anaconda3\\envs\\cs6220\\lib\\site-packages\\tensorflow_core\\python\\eager\\function.py:629 _construct_forward_backward\n        func_graph=backwards_graph)\n    Anaconda3\\envs\\cs6220\\lib\\site-packages\\tensorflow_core\\python\\framework\\func_graph.py:915 func_graph_from_py_func\n        func_outputs = python_func(*func_args, **func_kwargs)\n    Anaconda3\\envs\\cs6220\\lib\\site-packages\\tensorflow_core\\python\\eager\\function.py:619 _backprop_function\n        src_graph=self._func_graph)\n    Anaconda3\\envs\\cs6220\\lib\\site-packages\\tensorflow_core\\python\\ops\\gradients_util.py:679 _GradientsHelper\n        lambda: grad_fn(op, *out_grads))\n    Anaconda3\\envs\\cs6220\\lib\\site-packages\\tensorflow_core\\python\\ops\\gradients_util.py:350 _MaybeCompile\n        return grad_fn()  # Exit early\n    Anaconda3\\envs\\cs6220\\lib\\site-packages\\tensorflow_core\\python\\ops\\gradients_util.py:679 <lambda>\n        lambda: grad_fn(op, *out_grads))\n    Anaconda3\\envs\\cs6220\\lib\\site-packages\\tensorflow_core\\python\\eager\\function.py:715 _registered_grad_fn\n        return self._rewrite_forward_and_call_backward(op, *doutputs)\n    Anaconda3\\envs\\cs6220\\lib\\site-packages\\tensorflow_core\\python\\eager\\function.py:661 _rewrite_forward_and_call_backward\n        forward_function, backwards_function = self.forward_backward(len(doutputs))\n    Anaconda3\\envs\\cs6220\\lib\\site-packages\\tensorflow_core\\python\\eager\\function.py:582 forward_backward\n        forward, backward = self._construct_forward_backward(num_doutputs)\n    Anaconda3\\envs\\cs6220\\lib\\site-packages\\tensorflow_core\\python\\eager\\function.py:629 _construct_forward_backward\n        func_graph=backwards_graph)\n    Anaconda3\\envs\\cs6220\\lib\\site-packages\\tensorflow_core\\python\\framework\\func_graph.py:915 func_graph_from_py_func\n        func_outputs = python_func(*func_args, **func_kwargs)\n    Anaconda3\\envs\\cs6220\\lib\\site-packages\\tensorflow_core\\python\\eager\\function.py:619 _backprop_function\n        src_graph=self._func_graph)\n    Anaconda3\\envs\\cs6220\\lib\\site-packages\\tensorflow_core\\python\\ops\\gradients_util.py:679 _GradientsHelper\n        lambda: grad_fn(op, *out_grads))\n    Anaconda3\\envs\\cs6220\\lib\\site-packages\\tensorflow_core\\python\\ops\\gradients_util.py:350 _MaybeCompile\n        return grad_fn()  # Exit early\n    Anaconda3\\envs\\cs6220\\lib\\site-packages\\tensorflow_core\\python\\ops\\gradients_util.py:679 <lambda>\n        lambda: grad_fn(op, *out_grads))\n    Anaconda3\\envs\\cs6220\\lib\\site-packages\\tensorflow_core\\python\\eager\\function.py:715 _registered_grad_fn\n        return self._rewrite_forward_and_call_backward(op, *doutputs)\n    Anaconda3\\envs\\cs6220\\lib\\site-packages\\tensorflow_core\\python\\eager\\function.py:661 _rewrite_forward_and_call_backward\n        forward_function, backwards_function = self.forward_backward(len(doutputs))\n    Anaconda3\\envs\\cs6220\\lib\\site-packages\\tensorflow_core\\python\\eager\\function.py:582 forward_backward\n        forward, backward = self._construct_forward_backward(num_doutputs)\n    Anaconda3\\envs\\cs6220\\lib\\site-packages\\tensorflow_core\\python\\eager\\function.py:629 _construct_forward_backward\n        func_graph=backwards_graph)\n    Anaconda3\\envs\\cs6220\\lib\\site-packages\\tensorflow_core\\python\\framework\\func_graph.py:915 func_graph_from_py_func\n        func_outputs = python_func(*func_args, **func_kwargs)\n    Anaconda3\\envs\\cs6220\\lib\\site-packages\\tensorflow_core\\python\\eager\\function.py:619 _backprop_function\n        src_graph=self._func_graph)\n    Anaconda3\\envs\\cs6220\\lib\\site-packages\\tensorflow_core\\python\\ops\\gradients_util.py:679 _GradientsHelper\n        lambda: grad_fn(op, *out_grads))\n    Anaconda3\\envs\\cs6220\\lib\\site-packages\\tensorflow_core\\python\\ops\\gradients_util.py:350 _MaybeCompile\n        return grad_fn()  # Exit early\n    Anaconda3\\envs\\cs6220\\lib\\site-packages\\tensorflow_core\\python\\ops\\gradients_util.py:679 <lambda>\n        lambda: grad_fn(op, *out_grads))\n    Anaconda3\\envs\\cs6220\\lib\\site-packages\\tensorflow_core\\python\\eager\\function.py:715 _registered_grad_fn\n        return self._rewrite_forward_and_call_backward(op, *doutputs)\n    Anaconda3\\envs\\cs6220\\lib\\site-packages\\tensorflow_core\\python\\eager\\function.py:661 _rewrite_forward_and_call_backward\n        forward_function, backwards_function = self.forward_backward(len(doutputs))\n    Anaconda3\\envs\\cs6220\\lib\\site-packages\\tensorflow_core\\python\\eager\\function.py:582 forward_backward\n        forward, backward = self._construct_forward_backward(num_doutputs)\n    Anaconda3\\envs\\cs6220\\lib\\site-packages\\tensorflow_core\\python\\eager\\function.py:629 _construct_forward_backward\n        func_graph=backwards_graph)\n    Anaconda3\\envs\\cs6220\\lib\\site-packages\\tensorflow_core\\python\\framework\\func_graph.py:915 func_graph_from_py_func\n        func_outputs = python_func(*func_args, **func_kwargs)\n    Anaconda3\\envs\\cs6220\\lib\\site-packages\\tensorflow_core\\python\\eager\\function.py:619 _backprop_function\n        src_graph=self._func_graph)\n    Anaconda3\\envs\\cs6220\\lib\\site-packages\\tensorflow_core\\python\\ops\\gradients_util.py:637 _GradientsHelper\n        (op.name, op.type))\n\n    LookupError: No gradient defined for operation 'while' (op type: While)\n",
     "output_type": "error",
     "traceback": [
      "\u001b[1;31m---------------------------------------------------------------------------\u001b[0m",
      "\u001b[1;31mStagingError\u001b[0m                              Traceback (most recent call last)",
      "\u001b[1;32m<ipython-input-49-827a26f33c4f>\u001b[0m in \u001b[0;36m<module>\u001b[1;34m\u001b[0m\n\u001b[0;32m      1\u001b[0m \u001b[1;32mfor\u001b[0m \u001b[0mepoch\u001b[0m \u001b[1;32min\u001b[0m \u001b[0mtqdm\u001b[0m\u001b[1;33m(\u001b[0m\u001b[0mrange\u001b[0m\u001b[1;33m(\u001b[0m\u001b[0mEPOCHS\u001b[0m\u001b[1;33m)\u001b[0m\u001b[1;33m)\u001b[0m\u001b[1;33m:\u001b[0m\u001b[1;33m\u001b[0m\u001b[1;33m\u001b[0m\u001b[0m\n\u001b[1;32m----> 2\u001b[1;33m     \u001b[0mrun_epoch\u001b[0m\u001b[1;33m(\u001b[0m\u001b[0mtrain_dataset\u001b[0m\u001b[1;33m,\u001b[0m \u001b[0mval_dataset\u001b[0m\u001b[1;33m)\u001b[0m\u001b[1;33m\u001b[0m\u001b[1;33m\u001b[0m\u001b[0m\n\u001b[0m",
      "\u001b[1;32m~\\Documents\\CS 6220\\Project\\src\\utils.py\u001b[0m in \u001b[0;36mwith_profiling\u001b[1;34m(*args, **kwargs)\u001b[0m\n\u001b[0;32m      5\u001b[0m         \u001b[0mstart_time\u001b[0m \u001b[1;33m=\u001b[0m \u001b[0mtime\u001b[0m\u001b[1;33m.\u001b[0m\u001b[0mtime\u001b[0m\u001b[1;33m(\u001b[0m\u001b[1;33m)\u001b[0m\u001b[1;33m\u001b[0m\u001b[1;33m\u001b[0m\u001b[0m\n\u001b[0;32m      6\u001b[0m \u001b[1;33m\u001b[0m\u001b[0m\n\u001b[1;32m----> 7\u001b[1;33m         \u001b[0mret\u001b[0m \u001b[1;33m=\u001b[0m \u001b[0mfn\u001b[0m\u001b[1;33m(\u001b[0m\u001b[1;33m*\u001b[0m\u001b[0margs\u001b[0m\u001b[1;33m,\u001b[0m \u001b[1;33m**\u001b[0m\u001b[0mkwargs\u001b[0m\u001b[1;33m)\u001b[0m\u001b[1;33m\u001b[0m\u001b[1;33m\u001b[0m\u001b[0m\n\u001b[0m\u001b[0;32m      8\u001b[0m \u001b[1;33m\u001b[0m\u001b[0m\n\u001b[0;32m      9\u001b[0m         \u001b[0melapsed_time\u001b[0m \u001b[1;33m=\u001b[0m \u001b[0mtime\u001b[0m\u001b[1;33m.\u001b[0m\u001b[0mtime\u001b[0m\u001b[1;33m(\u001b[0m\u001b[1;33m)\u001b[0m \u001b[1;33m-\u001b[0m \u001b[0mstart_time\u001b[0m\u001b[1;33m\u001b[0m\u001b[1;33m\u001b[0m\u001b[0m\n",
      "\u001b[1;32m~\\Documents\\CS 6220\\Project\\src\\machine_learning\\ml_operations.py\u001b[0m in \u001b[0;36mrun_epoch\u001b[1;34m(train_dataset, val_dataset)\u001b[0m\n\u001b[0;32m      6\u001b[0m         \u001b[1;32mnonlocal\u001b[0m \u001b[0mepoch_ind\u001b[0m\u001b[1;33m\u001b[0m\u001b[1;33m\u001b[0m\u001b[0m\n\u001b[0;32m      7\u001b[0m         \u001b[1;32mfor\u001b[0m \u001b[0mtest_x\u001b[0m\u001b[1;33m,\u001b[0m \u001b[0mlabels\u001b[0m \u001b[1;32min\u001b[0m \u001b[0mtrain_dataset\u001b[0m\u001b[1;33m:\u001b[0m\u001b[1;33m\u001b[0m\u001b[1;33m\u001b[0m\u001b[0m\n\u001b[1;32m----> 8\u001b[1;33m             \u001b[0mtrain_step\u001b[0m\u001b[1;33m(\u001b[0m\u001b[0mtest_x\u001b[0m\u001b[1;33m,\u001b[0m \u001b[0mlabels\u001b[0m\u001b[1;33m)\u001b[0m\u001b[1;33m\u001b[0m\u001b[1;33m\u001b[0m\u001b[0m\n\u001b[0m\u001b[0;32m      9\u001b[0m \u001b[1;33m\u001b[0m\u001b[0m\n\u001b[0;32m     10\u001b[0m         \u001b[1;32mfor\u001b[0m \u001b[0mval_x\u001b[0m\u001b[1;33m,\u001b[0m \u001b[0mval_labels\u001b[0m \u001b[1;32min\u001b[0m \u001b[0mval_dataset\u001b[0m\u001b[1;33m:\u001b[0m\u001b[1;33m\u001b[0m\u001b[1;33m\u001b[0m\u001b[0m\n",
      "\u001b[1;32m~\\Anaconda3\\envs\\cs6220\\lib\\site-packages\\tensorflow_core\\python\\eager\\def_function.py\u001b[0m in \u001b[0;36m__call__\u001b[1;34m(self, *args, **kwds)\u001b[0m\n\u001b[0;32m    455\u001b[0m \u001b[1;33m\u001b[0m\u001b[0m\n\u001b[0;32m    456\u001b[0m     \u001b[0mtracing_count\u001b[0m \u001b[1;33m=\u001b[0m \u001b[0mself\u001b[0m\u001b[1;33m.\u001b[0m\u001b[0m_get_tracing_count\u001b[0m\u001b[1;33m(\u001b[0m\u001b[1;33m)\u001b[0m\u001b[1;33m\u001b[0m\u001b[1;33m\u001b[0m\u001b[0m\n\u001b[1;32m--> 457\u001b[1;33m     \u001b[0mresult\u001b[0m \u001b[1;33m=\u001b[0m \u001b[0mself\u001b[0m\u001b[1;33m.\u001b[0m\u001b[0m_call\u001b[0m\u001b[1;33m(\u001b[0m\u001b[1;33m*\u001b[0m\u001b[0margs\u001b[0m\u001b[1;33m,\u001b[0m \u001b[1;33m**\u001b[0m\u001b[0mkwds\u001b[0m\u001b[1;33m)\u001b[0m\u001b[1;33m\u001b[0m\u001b[1;33m\u001b[0m\u001b[0m\n\u001b[0m\u001b[0;32m    458\u001b[0m     \u001b[1;32mif\u001b[0m \u001b[0mtracing_count\u001b[0m \u001b[1;33m==\u001b[0m \u001b[0mself\u001b[0m\u001b[1;33m.\u001b[0m\u001b[0m_get_tracing_count\u001b[0m\u001b[1;33m(\u001b[0m\u001b[1;33m)\u001b[0m\u001b[1;33m:\u001b[0m\u001b[1;33m\u001b[0m\u001b[1;33m\u001b[0m\u001b[0m\n\u001b[0;32m    459\u001b[0m       \u001b[0mself\u001b[0m\u001b[1;33m.\u001b[0m\u001b[0m_call_counter\u001b[0m\u001b[1;33m.\u001b[0m\u001b[0mcalled_without_tracing\u001b[0m\u001b[1;33m(\u001b[0m\u001b[1;33m)\u001b[0m\u001b[1;33m\u001b[0m\u001b[1;33m\u001b[0m\u001b[0m\n",
      "\u001b[1;32m~\\Anaconda3\\envs\\cs6220\\lib\\site-packages\\tensorflow_core\\python\\eager\\def_function.py\u001b[0m in \u001b[0;36m_call\u001b[1;34m(self, *args, **kwds)\u001b[0m\n\u001b[0;32m    501\u001b[0m       \u001b[1;31m# This is the first call of __call__, so we have to initialize.\u001b[0m\u001b[1;33m\u001b[0m\u001b[1;33m\u001b[0m\u001b[1;33m\u001b[0m\u001b[0m\n\u001b[0;32m    502\u001b[0m       \u001b[0minitializer_map\u001b[0m \u001b[1;33m=\u001b[0m \u001b[0mobject_identity\u001b[0m\u001b[1;33m.\u001b[0m\u001b[0mObjectIdentityDictionary\u001b[0m\u001b[1;33m(\u001b[0m\u001b[1;33m)\u001b[0m\u001b[1;33m\u001b[0m\u001b[1;33m\u001b[0m\u001b[0m\n\u001b[1;32m--> 503\u001b[1;33m       \u001b[0mself\u001b[0m\u001b[1;33m.\u001b[0m\u001b[0m_initialize\u001b[0m\u001b[1;33m(\u001b[0m\u001b[0margs\u001b[0m\u001b[1;33m,\u001b[0m \u001b[0mkwds\u001b[0m\u001b[1;33m,\u001b[0m \u001b[0madd_initializers_to\u001b[0m\u001b[1;33m=\u001b[0m\u001b[0minitializer_map\u001b[0m\u001b[1;33m)\u001b[0m\u001b[1;33m\u001b[0m\u001b[1;33m\u001b[0m\u001b[0m\n\u001b[0m\u001b[0;32m    504\u001b[0m     \u001b[1;32mfinally\u001b[0m\u001b[1;33m:\u001b[0m\u001b[1;33m\u001b[0m\u001b[1;33m\u001b[0m\u001b[0m\n\u001b[0;32m    505\u001b[0m       \u001b[1;31m# At this point we know that the initialization is complete (or less\u001b[0m\u001b[1;33m\u001b[0m\u001b[1;33m\u001b[0m\u001b[1;33m\u001b[0m\u001b[0m\n",
      "\u001b[1;32m~\\Anaconda3\\envs\\cs6220\\lib\\site-packages\\tensorflow_core\\python\\eager\\def_function.py\u001b[0m in \u001b[0;36m_initialize\u001b[1;34m(self, args, kwds, add_initializers_to)\u001b[0m\n\u001b[0;32m    406\u001b[0m     self._concrete_stateful_fn = (\n\u001b[0;32m    407\u001b[0m         self._stateful_fn._get_concrete_function_internal_garbage_collected(  # pylint: disable=protected-access\n\u001b[1;32m--> 408\u001b[1;33m             *args, **kwds))\n\u001b[0m\u001b[0;32m    409\u001b[0m \u001b[1;33m\u001b[0m\u001b[0m\n\u001b[0;32m    410\u001b[0m     \u001b[1;32mdef\u001b[0m \u001b[0minvalid_creator_scope\u001b[0m\u001b[1;33m(\u001b[0m\u001b[1;33m*\u001b[0m\u001b[0munused_args\u001b[0m\u001b[1;33m,\u001b[0m \u001b[1;33m**\u001b[0m\u001b[0munused_kwds\u001b[0m\u001b[1;33m)\u001b[0m\u001b[1;33m:\u001b[0m\u001b[1;33m\u001b[0m\u001b[1;33m\u001b[0m\u001b[0m\n",
      "\u001b[1;32m~\\Anaconda3\\envs\\cs6220\\lib\\site-packages\\tensorflow_core\\python\\eager\\function.py\u001b[0m in \u001b[0;36m_get_concrete_function_internal_garbage_collected\u001b[1;34m(self, *args, **kwargs)\u001b[0m\n\u001b[0;32m   1846\u001b[0m     \u001b[1;32mif\u001b[0m \u001b[0mself\u001b[0m\u001b[1;33m.\u001b[0m\u001b[0minput_signature\u001b[0m\u001b[1;33m:\u001b[0m\u001b[1;33m\u001b[0m\u001b[1;33m\u001b[0m\u001b[0m\n\u001b[0;32m   1847\u001b[0m       \u001b[0margs\u001b[0m\u001b[1;33m,\u001b[0m \u001b[0mkwargs\u001b[0m \u001b[1;33m=\u001b[0m \u001b[1;32mNone\u001b[0m\u001b[1;33m,\u001b[0m \u001b[1;32mNone\u001b[0m\u001b[1;33m\u001b[0m\u001b[1;33m\u001b[0m\u001b[0m\n\u001b[1;32m-> 1848\u001b[1;33m     \u001b[0mgraph_function\u001b[0m\u001b[1;33m,\u001b[0m \u001b[0m_\u001b[0m\u001b[1;33m,\u001b[0m \u001b[0m_\u001b[0m \u001b[1;33m=\u001b[0m \u001b[0mself\u001b[0m\u001b[1;33m.\u001b[0m\u001b[0m_maybe_define_function\u001b[0m\u001b[1;33m(\u001b[0m\u001b[0margs\u001b[0m\u001b[1;33m,\u001b[0m \u001b[0mkwargs\u001b[0m\u001b[1;33m)\u001b[0m\u001b[1;33m\u001b[0m\u001b[1;33m\u001b[0m\u001b[0m\n\u001b[0m\u001b[0;32m   1849\u001b[0m     \u001b[1;32mreturn\u001b[0m \u001b[0mgraph_function\u001b[0m\u001b[1;33m\u001b[0m\u001b[1;33m\u001b[0m\u001b[0m\n\u001b[0;32m   1850\u001b[0m \u001b[1;33m\u001b[0m\u001b[0m\n",
      "\u001b[1;32m~\\Anaconda3\\envs\\cs6220\\lib\\site-packages\\tensorflow_core\\python\\eager\\function.py\u001b[0m in \u001b[0;36m_maybe_define_function\u001b[1;34m(self, args, kwargs)\u001b[0m\n\u001b[0;32m   2148\u001b[0m         \u001b[0mgraph_function\u001b[0m \u001b[1;33m=\u001b[0m \u001b[0mself\u001b[0m\u001b[1;33m.\u001b[0m\u001b[0m_function_cache\u001b[0m\u001b[1;33m.\u001b[0m\u001b[0mprimary\u001b[0m\u001b[1;33m.\u001b[0m\u001b[0mget\u001b[0m\u001b[1;33m(\u001b[0m\u001b[0mcache_key\u001b[0m\u001b[1;33m,\u001b[0m \u001b[1;32mNone\u001b[0m\u001b[1;33m)\u001b[0m\u001b[1;33m\u001b[0m\u001b[1;33m\u001b[0m\u001b[0m\n\u001b[0;32m   2149\u001b[0m         \u001b[1;32mif\u001b[0m \u001b[0mgraph_function\u001b[0m \u001b[1;32mis\u001b[0m \u001b[1;32mNone\u001b[0m\u001b[1;33m:\u001b[0m\u001b[1;33m\u001b[0m\u001b[1;33m\u001b[0m\u001b[0m\n\u001b[1;32m-> 2150\u001b[1;33m           \u001b[0mgraph_function\u001b[0m \u001b[1;33m=\u001b[0m \u001b[0mself\u001b[0m\u001b[1;33m.\u001b[0m\u001b[0m_create_graph_function\u001b[0m\u001b[1;33m(\u001b[0m\u001b[0margs\u001b[0m\u001b[1;33m,\u001b[0m \u001b[0mkwargs\u001b[0m\u001b[1;33m)\u001b[0m\u001b[1;33m\u001b[0m\u001b[1;33m\u001b[0m\u001b[0m\n\u001b[0m\u001b[0;32m   2151\u001b[0m           \u001b[0mself\u001b[0m\u001b[1;33m.\u001b[0m\u001b[0m_function_cache\u001b[0m\u001b[1;33m.\u001b[0m\u001b[0mprimary\u001b[0m\u001b[1;33m[\u001b[0m\u001b[0mcache_key\u001b[0m\u001b[1;33m]\u001b[0m \u001b[1;33m=\u001b[0m \u001b[0mgraph_function\u001b[0m\u001b[1;33m\u001b[0m\u001b[1;33m\u001b[0m\u001b[0m\n\u001b[0;32m   2152\u001b[0m         \u001b[1;32mreturn\u001b[0m \u001b[0mgraph_function\u001b[0m\u001b[1;33m,\u001b[0m \u001b[0margs\u001b[0m\u001b[1;33m,\u001b[0m \u001b[0mkwargs\u001b[0m\u001b[1;33m\u001b[0m\u001b[1;33m\u001b[0m\u001b[0m\n",
      "\u001b[1;32m~\\Anaconda3\\envs\\cs6220\\lib\\site-packages\\tensorflow_core\\python\\eager\\function.py\u001b[0m in \u001b[0;36m_create_graph_function\u001b[1;34m(self, args, kwargs, override_flat_arg_shapes)\u001b[0m\n\u001b[0;32m   2039\u001b[0m             \u001b[0marg_names\u001b[0m\u001b[1;33m=\u001b[0m\u001b[0marg_names\u001b[0m\u001b[1;33m,\u001b[0m\u001b[1;33m\u001b[0m\u001b[1;33m\u001b[0m\u001b[0m\n\u001b[0;32m   2040\u001b[0m             \u001b[0moverride_flat_arg_shapes\u001b[0m\u001b[1;33m=\u001b[0m\u001b[0moverride_flat_arg_shapes\u001b[0m\u001b[1;33m,\u001b[0m\u001b[1;33m\u001b[0m\u001b[1;33m\u001b[0m\u001b[0m\n\u001b[1;32m-> 2041\u001b[1;33m             capture_by_value=self._capture_by_value),\n\u001b[0m\u001b[0;32m   2042\u001b[0m         \u001b[0mself\u001b[0m\u001b[1;33m.\u001b[0m\u001b[0m_function_attributes\u001b[0m\u001b[1;33m,\u001b[0m\u001b[1;33m\u001b[0m\u001b[1;33m\u001b[0m\u001b[0m\n\u001b[0;32m   2043\u001b[0m         \u001b[1;31m# Tell the ConcreteFunction to clean up its graph once it goes out of\u001b[0m\u001b[1;33m\u001b[0m\u001b[1;33m\u001b[0m\u001b[1;33m\u001b[0m\u001b[0m\n",
      "\u001b[1;32m~\\Anaconda3\\envs\\cs6220\\lib\\site-packages\\tensorflow_core\\python\\framework\\func_graph.py\u001b[0m in \u001b[0;36mfunc_graph_from_py_func\u001b[1;34m(name, python_func, args, kwargs, signature, func_graph, autograph, autograph_options, add_control_dependencies, arg_names, op_return_value, collections, capture_by_value, override_flat_arg_shapes)\u001b[0m\n\u001b[0;32m    913\u001b[0m                                           converted_func)\n\u001b[0;32m    914\u001b[0m \u001b[1;33m\u001b[0m\u001b[0m\n\u001b[1;32m--> 915\u001b[1;33m       \u001b[0mfunc_outputs\u001b[0m \u001b[1;33m=\u001b[0m \u001b[0mpython_func\u001b[0m\u001b[1;33m(\u001b[0m\u001b[1;33m*\u001b[0m\u001b[0mfunc_args\u001b[0m\u001b[1;33m,\u001b[0m \u001b[1;33m**\u001b[0m\u001b[0mfunc_kwargs\u001b[0m\u001b[1;33m)\u001b[0m\u001b[1;33m\u001b[0m\u001b[1;33m\u001b[0m\u001b[0m\n\u001b[0m\u001b[0;32m    916\u001b[0m \u001b[1;33m\u001b[0m\u001b[0m\n\u001b[0;32m    917\u001b[0m       \u001b[1;31m# invariant: `func_outputs` contains only Tensors, CompositeTensors,\u001b[0m\u001b[1;33m\u001b[0m\u001b[1;33m\u001b[0m\u001b[1;33m\u001b[0m\u001b[0m\n",
      "\u001b[1;32m~\\Anaconda3\\envs\\cs6220\\lib\\site-packages\\tensorflow_core\\python\\eager\\def_function.py\u001b[0m in \u001b[0;36mwrapped_fn\u001b[1;34m(*args, **kwds)\u001b[0m\n\u001b[0;32m    356\u001b[0m         \u001b[1;31m# __wrapped__ allows AutoGraph to swap in a converted function. We give\u001b[0m\u001b[1;33m\u001b[0m\u001b[1;33m\u001b[0m\u001b[1;33m\u001b[0m\u001b[0m\n\u001b[0;32m    357\u001b[0m         \u001b[1;31m# the function a weak reference to itself to avoid a reference cycle.\u001b[0m\u001b[1;33m\u001b[0m\u001b[1;33m\u001b[0m\u001b[1;33m\u001b[0m\u001b[0m\n\u001b[1;32m--> 358\u001b[1;33m         \u001b[1;32mreturn\u001b[0m \u001b[0mweak_wrapped_fn\u001b[0m\u001b[1;33m(\u001b[0m\u001b[1;33m)\u001b[0m\u001b[1;33m.\u001b[0m\u001b[0m__wrapped__\u001b[0m\u001b[1;33m(\u001b[0m\u001b[1;33m*\u001b[0m\u001b[0margs\u001b[0m\u001b[1;33m,\u001b[0m \u001b[1;33m**\u001b[0m\u001b[0mkwds\u001b[0m\u001b[1;33m)\u001b[0m\u001b[1;33m\u001b[0m\u001b[1;33m\u001b[0m\u001b[0m\n\u001b[0m\u001b[0;32m    359\u001b[0m     \u001b[0mweak_wrapped_fn\u001b[0m \u001b[1;33m=\u001b[0m \u001b[0mweakref\u001b[0m\u001b[1;33m.\u001b[0m\u001b[0mref\u001b[0m\u001b[1;33m(\u001b[0m\u001b[0mwrapped_fn\u001b[0m\u001b[1;33m)\u001b[0m\u001b[1;33m\u001b[0m\u001b[1;33m\u001b[0m\u001b[0m\n\u001b[0;32m    360\u001b[0m \u001b[1;33m\u001b[0m\u001b[0m\n",
      "\u001b[1;32m~\\Anaconda3\\envs\\cs6220\\lib\\site-packages\\tensorflow_core\\python\\framework\\func_graph.py\u001b[0m in \u001b[0;36mwrapper\u001b[1;34m(*args, **kwargs)\u001b[0m\n\u001b[0;32m    903\u001b[0m           \u001b[1;32mexcept\u001b[0m \u001b[0mException\u001b[0m \u001b[1;32mas\u001b[0m \u001b[0me\u001b[0m\u001b[1;33m:\u001b[0m  \u001b[1;31m# pylint:disable=broad-except\u001b[0m\u001b[1;33m\u001b[0m\u001b[1;33m\u001b[0m\u001b[0m\n\u001b[0;32m    904\u001b[0m             \u001b[1;32mif\u001b[0m \u001b[0mhasattr\u001b[0m\u001b[1;33m(\u001b[0m\u001b[0me\u001b[0m\u001b[1;33m,\u001b[0m \u001b[1;34m\"ag_error_metadata\"\u001b[0m\u001b[1;33m)\u001b[0m\u001b[1;33m:\u001b[0m\u001b[1;33m\u001b[0m\u001b[1;33m\u001b[0m\u001b[0m\n\u001b[1;32m--> 905\u001b[1;33m               \u001b[1;32mraise\u001b[0m \u001b[0me\u001b[0m\u001b[1;33m.\u001b[0m\u001b[0mag_error_metadata\u001b[0m\u001b[1;33m.\u001b[0m\u001b[0mto_exception\u001b[0m\u001b[1;33m(\u001b[0m\u001b[0me\u001b[0m\u001b[1;33m)\u001b[0m\u001b[1;33m\u001b[0m\u001b[1;33m\u001b[0m\u001b[0m\n\u001b[0m\u001b[0;32m    906\u001b[0m             \u001b[1;32melse\u001b[0m\u001b[1;33m:\u001b[0m\u001b[1;33m\u001b[0m\u001b[1;33m\u001b[0m\u001b[0m\n\u001b[0;32m    907\u001b[0m               \u001b[1;32mraise\u001b[0m\u001b[1;33m\u001b[0m\u001b[1;33m\u001b[0m\u001b[0m\n",
      "\u001b[1;31mStagingError\u001b[0m: in converted code:\n    relative to C:\\Users\\Daniel:\n\n    Documents\\CS 6220\\Project\\src\\machine_learning\\ml_operations.py:34 train_step  *\n        grads = tape.gradient(loss_value, model.trainable_variables)\n    Anaconda3\\envs\\cs6220\\lib\\site-packages\\tensorflow_core\\python\\eager\\backprop.py:1014 gradient\n        unconnected_gradients=unconnected_gradients)\n    Anaconda3\\envs\\cs6220\\lib\\site-packages\\tensorflow_core\\python\\eager\\imperative_grad.py:76 imperative_grad\n        compat.as_str(unconnected_gradients.value))\n    Anaconda3\\envs\\cs6220\\lib\\site-packages\\tensorflow_core\\python\\eager\\function.py:738 _backward_function\n        return self._rewrite_forward_and_call_backward(call_op, *args)\n    Anaconda3\\envs\\cs6220\\lib\\site-packages\\tensorflow_core\\python\\eager\\function.py:661 _rewrite_forward_and_call_backward\n        forward_function, backwards_function = self.forward_backward(len(doutputs))\n    Anaconda3\\envs\\cs6220\\lib\\site-packages\\tensorflow_core\\python\\eager\\function.py:582 forward_backward\n        forward, backward = self._construct_forward_backward(num_doutputs)\n    Anaconda3\\envs\\cs6220\\lib\\site-packages\\tensorflow_core\\python\\eager\\function.py:629 _construct_forward_backward\n        func_graph=backwards_graph)\n    Anaconda3\\envs\\cs6220\\lib\\site-packages\\tensorflow_core\\python\\framework\\func_graph.py:915 func_graph_from_py_func\n        func_outputs = python_func(*func_args, **func_kwargs)\n    Anaconda3\\envs\\cs6220\\lib\\site-packages\\tensorflow_core\\python\\eager\\function.py:619 _backprop_function\n        src_graph=self._func_graph)\n    Anaconda3\\envs\\cs6220\\lib\\site-packages\\tensorflow_core\\python\\ops\\gradients_util.py:679 _GradientsHelper\n        lambda: grad_fn(op, *out_grads))\n    Anaconda3\\envs\\cs6220\\lib\\site-packages\\tensorflow_core\\python\\ops\\gradients_util.py:350 _MaybeCompile\n        return grad_fn()  # Exit early\n    Anaconda3\\envs\\cs6220\\lib\\site-packages\\tensorflow_core\\python\\ops\\gradients_util.py:679 <lambda>\n        lambda: grad_fn(op, *out_grads))\n    Anaconda3\\envs\\cs6220\\lib\\site-packages\\tensorflow_core\\python\\eager\\function.py:715 _registered_grad_fn\n        return self._rewrite_forward_and_call_backward(op, *doutputs)\n    Anaconda3\\envs\\cs6220\\lib\\site-packages\\tensorflow_core\\python\\eager\\function.py:661 _rewrite_forward_and_call_backward\n        forward_function, backwards_function = self.forward_backward(len(doutputs))\n    Anaconda3\\envs\\cs6220\\lib\\site-packages\\tensorflow_core\\python\\eager\\function.py:582 forward_backward\n        forward, backward = self._construct_forward_backward(num_doutputs)\n    Anaconda3\\envs\\cs6220\\lib\\site-packages\\tensorflow_core\\python\\eager\\function.py:629 _construct_forward_backward\n        func_graph=backwards_graph)\n    Anaconda3\\envs\\cs6220\\lib\\site-packages\\tensorflow_core\\python\\framework\\func_graph.py:915 func_graph_from_py_func\n        func_outputs = python_func(*func_args, **func_kwargs)\n    Anaconda3\\envs\\cs6220\\lib\\site-packages\\tensorflow_core\\python\\eager\\function.py:619 _backprop_function\n        src_graph=self._func_graph)\n    Anaconda3\\envs\\cs6220\\lib\\site-packages\\tensorflow_core\\python\\ops\\gradients_util.py:679 _GradientsHelper\n        lambda: grad_fn(op, *out_grads))\n    Anaconda3\\envs\\cs6220\\lib\\site-packages\\tensorflow_core\\python\\ops\\gradients_util.py:350 _MaybeCompile\n        return grad_fn()  # Exit early\n    Anaconda3\\envs\\cs6220\\lib\\site-packages\\tensorflow_core\\python\\ops\\gradients_util.py:679 <lambda>\n        lambda: grad_fn(op, *out_grads))\n    Anaconda3\\envs\\cs6220\\lib\\site-packages\\tensorflow_core\\python\\eager\\function.py:715 _registered_grad_fn\n        return self._rewrite_forward_and_call_backward(op, *doutputs)\n    Anaconda3\\envs\\cs6220\\lib\\site-packages\\tensorflow_core\\python\\eager\\function.py:661 _rewrite_forward_and_call_backward\n        forward_function, backwards_function = self.forward_backward(len(doutputs))\n    Anaconda3\\envs\\cs6220\\lib\\site-packages\\tensorflow_core\\python\\eager\\function.py:582 forward_backward\n        forward, backward = self._construct_forward_backward(num_doutputs)\n    Anaconda3\\envs\\cs6220\\lib\\site-packages\\tensorflow_core\\python\\eager\\function.py:629 _construct_forward_backward\n        func_graph=backwards_graph)\n    Anaconda3\\envs\\cs6220\\lib\\site-packages\\tensorflow_core\\python\\framework\\func_graph.py:915 func_graph_from_py_func\n        func_outputs = python_func(*func_args, **func_kwargs)\n    Anaconda3\\envs\\cs6220\\lib\\site-packages\\tensorflow_core\\python\\eager\\function.py:619 _backprop_function\n        src_graph=self._func_graph)\n    Anaconda3\\envs\\cs6220\\lib\\site-packages\\tensorflow_core\\python\\ops\\gradients_util.py:679 _GradientsHelper\n        lambda: grad_fn(op, *out_grads))\n    Anaconda3\\envs\\cs6220\\lib\\site-packages\\tensorflow_core\\python\\ops\\gradients_util.py:350 _MaybeCompile\n        return grad_fn()  # Exit early\n    Anaconda3\\envs\\cs6220\\lib\\site-packages\\tensorflow_core\\python\\ops\\gradients_util.py:679 <lambda>\n        lambda: grad_fn(op, *out_grads))\n    Anaconda3\\envs\\cs6220\\lib\\site-packages\\tensorflow_core\\python\\eager\\function.py:715 _registered_grad_fn\n        return self._rewrite_forward_and_call_backward(op, *doutputs)\n    Anaconda3\\envs\\cs6220\\lib\\site-packages\\tensorflow_core\\python\\eager\\function.py:661 _rewrite_forward_and_call_backward\n        forward_function, backwards_function = self.forward_backward(len(doutputs))\n    Anaconda3\\envs\\cs6220\\lib\\site-packages\\tensorflow_core\\python\\eager\\function.py:582 forward_backward\n        forward, backward = self._construct_forward_backward(num_doutputs)\n    Anaconda3\\envs\\cs6220\\lib\\site-packages\\tensorflow_core\\python\\eager\\function.py:629 _construct_forward_backward\n        func_graph=backwards_graph)\n    Anaconda3\\envs\\cs6220\\lib\\site-packages\\tensorflow_core\\python\\framework\\func_graph.py:915 func_graph_from_py_func\n        func_outputs = python_func(*func_args, **func_kwargs)\n    Anaconda3\\envs\\cs6220\\lib\\site-packages\\tensorflow_core\\python\\eager\\function.py:619 _backprop_function\n        src_graph=self._func_graph)\n    Anaconda3\\envs\\cs6220\\lib\\site-packages\\tensorflow_core\\python\\ops\\gradients_util.py:679 _GradientsHelper\n        lambda: grad_fn(op, *out_grads))\n    Anaconda3\\envs\\cs6220\\lib\\site-packages\\tensorflow_core\\python\\ops\\gradients_util.py:350 _MaybeCompile\n        return grad_fn()  # Exit early\n    Anaconda3\\envs\\cs6220\\lib\\site-packages\\tensorflow_core\\python\\ops\\gradients_util.py:679 <lambda>\n        lambda: grad_fn(op, *out_grads))\n    Anaconda3\\envs\\cs6220\\lib\\site-packages\\tensorflow_core\\python\\eager\\function.py:715 _registered_grad_fn\n        return self._rewrite_forward_and_call_backward(op, *doutputs)\n    Anaconda3\\envs\\cs6220\\lib\\site-packages\\tensorflow_core\\python\\eager\\function.py:661 _rewrite_forward_and_call_backward\n        forward_function, backwards_function = self.forward_backward(len(doutputs))\n    Anaconda3\\envs\\cs6220\\lib\\site-packages\\tensorflow_core\\python\\eager\\function.py:582 forward_backward\n        forward, backward = self._construct_forward_backward(num_doutputs)\n    Anaconda3\\envs\\cs6220\\lib\\site-packages\\tensorflow_core\\python\\eager\\function.py:629 _construct_forward_backward\n        func_graph=backwards_graph)\n    Anaconda3\\envs\\cs6220\\lib\\site-packages\\tensorflow_core\\python\\framework\\func_graph.py:915 func_graph_from_py_func\n        func_outputs = python_func(*func_args, **func_kwargs)\n    Anaconda3\\envs\\cs6220\\lib\\site-packages\\tensorflow_core\\python\\eager\\function.py:619 _backprop_function\n        src_graph=self._func_graph)\n    Anaconda3\\envs\\cs6220\\lib\\site-packages\\tensorflow_core\\python\\ops\\gradients_util.py:637 _GradientsHelper\n        (op.name, op.type))\n\n    LookupError: No gradient defined for operation 'while' (op type: While)\n"
     ]
    }
   ],
   "source": [
    "for epoch in tqdm(range(EPOCHS)):\n",
    "    run_epoch(train_dataset, val_dataset)"
   ]
  },
  {
   "cell_type": "markdown",
   "metadata": {},
   "source": [
    "### Save model"
   ]
  },
  {
   "cell_type": "code",
   "execution_count": 16,
   "metadata": {},
   "outputs": [
    {
     "name": "stdout",
     "output_type": "stream",
     "text": [
      "Model: \"music_genre_model_v2_1\"\n",
      "_________________________________________________________________\n",
      "Layer (type)                 Output Shape              Param #   \n",
      "=================================================================\n",
      "lstm_1 (LSTM)                multiple                  49408     \n",
      "_________________________________________________________________\n",
      "dense_4 (Dense)              multiple                  2080      \n",
      "_________________________________________________________________\n",
      "dense_5 (Dense)              multiple                  1056      \n",
      "_________________________________________________________________\n",
      "dense_6 (Dense)              multiple                  330       \n",
      "=================================================================\n",
      "Total params: 52,874\n",
      "Trainable params: 52,874\n",
      "Non-trainable params: 0\n",
      "_________________________________________________________________\n",
      "INFO:tensorflow:Assets written to: models/saved_models/MusicGenreModel_v2\\assets\n"
     ]
    }
   ],
   "source": [
    "model.summary()\n",
    "\n",
    "try:\n",
    "    os.mkdir(f'{MODEL_DIR}/{model.__class__.__name__}')\n",
    "except FileExistsError:\n",
    "    pass\n",
    "tf.saved_model.save(model, f'{MODEL_DIR}/{model.__class__.__name__}')"
   ]
  },
  {
   "cell_type": "markdown",
   "metadata": {},
   "source": [
    "### Test Model"
   ]
  },
  {
   "cell_type": "code",
   "execution_count": 41,
   "metadata": {},
   "outputs": [
    {
     "name": "stdout",
     "output_type": "stream",
     "text": [
      "Genre:  audio_files/genres/blues\n"
     ]
    },
    {
     "data": {
      "application/vnd.jupyter.widget-view+json": {
       "model_id": "cbc0a2ea558648ef9bf67b19e633b52f",
       "version_major": 2,
       "version_minor": 0
      },
      "text/plain": [
       "HBox(children=(IntProgress(value=0, max=20), HTML(value='')))"
      ]
     },
     "metadata": {},
     "output_type": "display_data"
    },
    {
     "name": "stdout",
     "output_type": "stream",
     "text": [
      "\n",
      "Genre:  audio_files/genres/classical\n"
     ]
    },
    {
     "data": {
      "application/vnd.jupyter.widget-view+json": {
       "model_id": "3d2827f1661b4c0baa8febbd0ca15e17",
       "version_major": 2,
       "version_minor": 0
      },
      "text/plain": [
       "HBox(children=(IntProgress(value=0, max=20), HTML(value='')))"
      ]
     },
     "metadata": {},
     "output_type": "display_data"
    },
    {
     "name": "stdout",
     "output_type": "stream",
     "text": [
      "\n",
      "Genre:  audio_files/genres/country\n"
     ]
    },
    {
     "data": {
      "application/vnd.jupyter.widget-view+json": {
       "model_id": "b907b347f7814a77a0d3ba4b0833e3c2",
       "version_major": 2,
       "version_minor": 0
      },
      "text/plain": [
       "HBox(children=(IntProgress(value=0, max=20), HTML(value='')))"
      ]
     },
     "metadata": {},
     "output_type": "display_data"
    },
    {
     "name": "stdout",
     "output_type": "stream",
     "text": [
      "\n",
      "Genre:  audio_files/genres/disco\n"
     ]
    },
    {
     "data": {
      "application/vnd.jupyter.widget-view+json": {
       "model_id": "d63bb0d95125460491d2a5f05373694c",
       "version_major": 2,
       "version_minor": 0
      },
      "text/plain": [
       "HBox(children=(IntProgress(value=0, max=20), HTML(value='')))"
      ]
     },
     "metadata": {},
     "output_type": "display_data"
    },
    {
     "name": "stdout",
     "output_type": "stream",
     "text": [
      "\n",
      "Genre:  audio_files/genres/hiphop\n"
     ]
    },
    {
     "data": {
      "application/vnd.jupyter.widget-view+json": {
       "model_id": "c4f64b476aad4c5790150bfa308cce51",
       "version_major": 2,
       "version_minor": 0
      },
      "text/plain": [
       "HBox(children=(IntProgress(value=0, max=20), HTML(value='')))"
      ]
     },
     "metadata": {},
     "output_type": "display_data"
    },
    {
     "name": "stdout",
     "output_type": "stream",
     "text": [
      "\n",
      "Genre:  audio_files/genres/jazz\n"
     ]
    },
    {
     "data": {
      "application/vnd.jupyter.widget-view+json": {
       "model_id": "94fb16af414842adbc28db33225a4735",
       "version_major": 2,
       "version_minor": 0
      },
      "text/plain": [
       "HBox(children=(IntProgress(value=0, max=20), HTML(value='')))"
      ]
     },
     "metadata": {},
     "output_type": "display_data"
    },
    {
     "name": "stdout",
     "output_type": "stream",
     "text": [
      "\n",
      "Genre:  audio_files/genres/metal\n"
     ]
    },
    {
     "data": {
      "application/vnd.jupyter.widget-view+json": {
       "model_id": "d58e47a035154593884ae7e1a3235435",
       "version_major": 2,
       "version_minor": 0
      },
      "text/plain": [
       "HBox(children=(IntProgress(value=0, max=20), HTML(value='')))"
      ]
     },
     "metadata": {},
     "output_type": "display_data"
    },
    {
     "name": "stdout",
     "output_type": "stream",
     "text": [
      "\n",
      "Genre:  audio_files/genres/pop\n"
     ]
    },
    {
     "data": {
      "application/vnd.jupyter.widget-view+json": {
       "model_id": "fb689574acb24ea299dbd11480d72e4d",
       "version_major": 2,
       "version_minor": 0
      },
      "text/plain": [
       "HBox(children=(IntProgress(value=0, max=20), HTML(value='')))"
      ]
     },
     "metadata": {},
     "output_type": "display_data"
    },
    {
     "name": "stdout",
     "output_type": "stream",
     "text": [
      "\n",
      "Genre:  audio_files/genres/reggae\n"
     ]
    },
    {
     "data": {
      "application/vnd.jupyter.widget-view+json": {
       "model_id": "c2a6b6c4190b4ec2b0867e9ad2872ea7",
       "version_major": 2,
       "version_minor": 0
      },
      "text/plain": [
       "HBox(children=(IntProgress(value=0, max=20), HTML(value='')))"
      ]
     },
     "metadata": {},
     "output_type": "display_data"
    },
    {
     "name": "stdout",
     "output_type": "stream",
     "text": [
      "\n",
      "Genre:  audio_files/genres/rock\n"
     ]
    },
    {
     "data": {
      "application/vnd.jupyter.widget-view+json": {
       "model_id": "9a557f9e42354841be26fbc07a9ff8ac",
       "version_major": 2,
       "version_minor": 0
      },
      "text/plain": [
       "HBox(children=(IntProgress(value=0, max=20), HTML(value='')))"
      ]
     },
     "metadata": {},
     "output_type": "display_data"
    },
    {
     "name": "stdout",
     "output_type": "stream",
     "text": [
      "\n"
     ]
    }
   ],
   "source": [
    "test_data = []\n",
    "\n",
    "for label, genre in enumerate(GENRES):\n",
    "    new_dir = FILES_PATH + '/' + genre\n",
    "    print(\"Genre: \", new_dir)\n",
    "\n",
    "    for n in tqdm(range(20)):\n",
    "        file_name = f\"{genre}.{n:05}{extension}\"\n",
    "        try:\n",
    "            samples, _ = librosa.load(f\"{FILES_PATH}/{genre}/{file_name}\", sr=RATE, mono=True)\n",
    "            # print(\"Length:\", len(samples) / RATE, \"seconds, samples:\", len(samples))\n",
    "        except:\n",
    "            continue\n",
    "        audio_data = librosa.feature.melspectrogram(np.asfortranarray(samples), sr=RATE, n_fft=FFT_SIZE, n_mels=MELS)\n",
    "        test_data.append((np.swapaxes(audio_data, 0, 1), label))"
   ]
  },
  {
   "cell_type": "code",
   "execution_count": 42,
   "metadata": {},
   "outputs": [
    {
     "name": "stdout",
     "output_type": "stream",
     "text": [
      "(200, 1292, 128)\n",
      "(200,)\n",
      "(200, 1290, 128)\n",
      "(200,)\n"
     ]
    }
   ],
   "source": [
    "test_indices = list(range(len(test_data)))\n",
    "\n",
    "x_test, y_test = prepare_data(test_data, test_indices)\n",
    "\n",
    "print(x_test.shape)\n",
    "print(y_test.shape)\n",
    "\n",
    "x_test = tf.slice(x_test, [0, 0, 0], [x_test.shape[0], 1290, x_test.shape[2]])\n",
    "\n",
    "print(x_test.shape)\n",
    "print(y_test.shape)"
   ]
  },
  {
   "cell_type": "code",
   "execution_count": 43,
   "metadata": {},
   "outputs": [
    {
     "name": "stdout",
     "output_type": "stream",
     "text": [
      "Loss: 0.0, Accuracy: 0.0, Validation Loss: 1.071116778999567, Validation Accuracy: 68.0\n"
     ]
    }
   ],
   "source": [
    "test_dataset = tf.data.Dataset.from_tensor_slices((x_test, y_test)).shuffle(200).batch(64)\n",
    "\n",
    "for x, labels in test_dataset:    \n",
    "    predictions = model(x)\n",
    "    val_loss_value = loss_object(labels, predictions)\n",
    "\n",
    "    val_loss(val_loss_value)\n",
    "    val_accuracy(labels, predictions)\n",
    "\n",
    "template = \"Loss: {}, Accuracy: {}, Validation Loss: {}, Validation Accuracy: {}\"\n",
    "print(template.format(train_loss.result(),\n",
    "                      train_accuracy.result() * 100,\n",
    "                      val_loss.result(),\n",
    "                      val_accuracy.result() * 100))"
   ]
  },
  {
   "cell_type": "code",
   "execution_count": null,
   "metadata": {},
   "outputs": [],
   "source": []
  }
 ],
 "metadata": {
  "kernelspec": {
   "display_name": "Python 3",
   "language": "python",
   "name": "python3"
  },
  "language_info": {
   "codemirror_mode": {
    "name": "ipython",
    "version": 3
   },
   "file_extension": ".py",
   "mimetype": "text/x-python",
   "name": "python",
   "nbconvert_exporter": "python",
   "pygments_lexer": "ipython3",
   "version": "3.7.3"
  }
 },
 "nbformat": 4,
 "nbformat_minor": 2
}
