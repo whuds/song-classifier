{
 "cells": [
  {
   "cell_type": "markdown",
   "metadata": {},
   "source": [
    "This code uses seeds for easy replication of results."
   ]
  },
  {
   "cell_type": "code",
   "execution_count": 1,
   "metadata": {},
   "outputs": [],
   "source": [
    "#Import Statements\n",
    "from __future__ import absolute_import, division, print_function, unicode_literals\n",
    "import os\n",
    "import numpy as np\n",
    "import tensorflow as tf\n",
    "import matplotlib.pyplot as plt\n",
    "from tqdm import tqdm\n",
    "import librosa\n",
    "import librosa.display\n",
    "from librosa.feature import mfcc\n",
    "from librosa.feature import melspectrogram\n",
    "import time"
   ]
  },
  {
   "cell_type": "code",
   "execution_count": 2,
   "metadata": {},
   "outputs": [],
   "source": [
    "# Local Variables\n",
    "# If you sync your google drive with your hard drive, you should be able to make everything work\n",
    "# by just changing the drive directory.\n",
    "drive_directory = \"E:\\\\Google Drive\\\\Big Data Project - Group 20\"\n",
    "notebook_directory = drive_directory + \"\\\\Code\\\\Sukris\\\\features-10_accuracy-81\"\n",
    "audio_directory = drive_directory + \"\\\\genres\"\n",
    "model_directory = notebook_directory + \"\\\\model\"\n",
    "sample_rate = 22050\n",
    "\n",
    "# Tuning Variables\n",
    "genres = ['blues','classical','country','disco','hiphop','jazz','metal','pop','reggae','rock']\n",
    "train_split = 0.8 # Percentage of data that will be used to train\n",
    "segment_width = 0.2 # Length of each audio segment in seconds\n",
    "num_frequencies = 128 # Number of frequency bins\n",
    "max_frequency = 4000 # Frequencies above this value will not be included\n",
    "num_epochs = 10 # Number of epochs to train with\n",
    "training_data_used = 1.0 # Percentage of the training data that is used\n",
    "test_data_used = 1.0 # Percentage of the test data that is used\n",
    "seed_np = 0 # Seed used for randomizing train/test split\n",
    "seed_tf = 4 # Seed used for randomizing tensorflow"
   ]
  },
  {
   "cell_type": "code",
   "execution_count": 3,
   "metadata": {},
   "outputs": [
    {
     "name": "stdout",
     "output_type": "stream",
     "text": [
      "Loading data...\n"
     ]
    },
    {
     "name": "stderr",
     "output_type": "stream",
     "text": [
      "100%|██████████████████████████████████████████████████████████████████████████████████| 10/10 [00:16<00:00,  1.52s/it]\n"
     ]
    }
   ],
   "source": [
    "t1 = time.time()\n",
    "\n",
    "# Load data from audio directory\n",
    "features = []\n",
    "classes = []\n",
    "framerates = []\n",
    "\n",
    "# Changes an int to a string of some length l, padded with 0s in front of it. For example:\n",
    "# Inputs: n = 16, l = 5\n",
    "# Output: \"00016\"\n",
    "def num_to_str(n,l):\n",
    "    output = ''\n",
    "    n = str(n)\n",
    "    if len(n) > l:\n",
    "        return None\n",
    "    for i in range(l-len(n)):\n",
    "        output += '0'\n",
    "    \n",
    "    return output + n\n",
    "\n",
    "# Full audio data\n",
    "print(\"Loading data...\")\n",
    "k = len(genres)\n",
    "extension = '.wav'\n",
    "#Get  Audio Data\n",
    "for g in tqdm(range(len(genres))):\n",
    "    genre = genres[g]\n",
    "    new_dir = audio_directory + '\\\\' + genre\n",
    "    genre_features = []\n",
    "    for n in range(100):\n",
    "        num = num_to_str(n,5)\n",
    "        file_name = genre + '.' + num + extension\n",
    "        file_path = new_dir + '\\\\' + file_name\n",
    "        frames,_ = librosa.load(file_path, sr=sample_rate)\n",
    "        \n",
    "        genre_features.append(frames)\n",
    "    features.append(genre_features)\n",
    "\n",
    "t2 = time.time()\n",
    "time_loading = t2-t1"
   ]
  },
  {
   "cell_type": "code",
   "execution_count": 4,
   "metadata": {},
   "outputs": [
    {
     "name": "stderr",
     "output_type": "stream",
     "text": [
      "100%|███████████████████████████████████████████████████████████████████████████████| 10/10 [00:00<00:00, 10029.42it/s]\n"
     ]
    },
    {
     "name": "stdout",
     "output_type": "stream",
     "text": [
      "Number of training features: 800\n",
      "Number of testing features:  200\n"
     ]
    }
   ],
   "source": [
    "t1 = time.time()\n",
    "\n",
    "# Seed for reproducability\n",
    "np.random.seed(seed_np)\n",
    "\n",
    "# Separate full audio into training and test data\n",
    "training_features_full = []\n",
    "training_classes_full = []\n",
    "test_features_full = []\n",
    "test_classes_full = []\n",
    "for n in tqdm(range(len(features))):\n",
    "    \n",
    "    # Shuffle data\n",
    "    key = np.arange(len(features[n]))\n",
    "    np.random.shuffle(key)\n",
    "\n",
    "    # Separate Data\n",
    "    total = len(features[n])\n",
    "    num_training_samples = int(total * train_split)\n",
    "    num_test_samples = total - num_training_samples\n",
    "    \n",
    "    for m in range(num_training_samples):\n",
    "        training_features_full.append(features[n][key[m]])\n",
    "        training_classes_full.append(n)\n",
    "\n",
    "    for m in range(num_test_samples):\n",
    "        test_features_full.append(features[n][key[m + num_training_samples]])\n",
    "        test_classes_full.append(n)\n",
    "\n",
    "print(\"Number of training features:\", len(training_features_full))\n",
    "print(\"Number of testing features: \", len(test_features_full))\n",
    "\n",
    "t2 = time.time()\n",
    "time_train_test_split = t2-t1\n"
   ]
  },
  {
   "cell_type": "code",
   "execution_count": 5,
   "metadata": {},
   "outputs": [
    {
     "name": "stdout",
     "output_type": "stream",
     "text": [
      "Segmenting training data...\n"
     ]
    },
    {
     "name": "stderr",
     "output_type": "stream",
     "text": [
      "100%|██████████████████████████████████████████████████████████████████████████████| 800/800 [00:00<00:00, 8443.70it/s]\n"
     ]
    },
    {
     "name": "stdout",
     "output_type": "stream",
     "text": [
      "Segmenting testing data...\n"
     ]
    },
    {
     "name": "stderr",
     "output_type": "stream",
     "text": [
      "100%|███████████████████████████████████████████████████████████████████████████████| 200/200 [00:00<00:00, 801.15it/s]\n"
     ]
    }
   ],
   "source": [
    "t1 = time.time()\n",
    "\n",
    "# Segment data\n",
    "num_seconds = segment_width\n",
    "sample_size = int(sample_rate * num_seconds)\n",
    "\n",
    "print(\"Segmenting training data...\")\n",
    "# Segment training data\n",
    "training_features_segmented = []\n",
    "training_classes_segmented = []\n",
    "for n in tqdm(range(len(training_classes_full))):\n",
    "    c = 0\n",
    "    while True:\n",
    "        frames = training_features_full[n]\n",
    "        start = c * sample_size\n",
    "        end = start + sample_size\n",
    "        if end >= len(frames) * training_data_used:\n",
    "            break\n",
    "        training_features_segmented.append(frames[start:end])\n",
    "        training_classes_segmented.append(training_classes_full[n])\n",
    "        c += 1\n",
    "\n",
    "print(\"Segmenting testing data...\")\n",
    "# Segment testing data\n",
    "testing_features_segmented = []\n",
    "testing_classes_segmented = []\n",
    "for n in tqdm(range(len(test_classes_full))):\n",
    "    segments = []\n",
    "    c = 0\n",
    "    while True:\n",
    "        frames = test_features_full[n]\n",
    "        start = c * sample_size\n",
    "        end = start + sample_size\n",
    "        if end >= len(frames) * test_data_used:\n",
    "            break\n",
    "        segments.append(frames[start:end])\n",
    "        c += 1\n",
    "    testing_features_segmented.append(np.array(segments))\n",
    "    \n",
    "t2 = time.time()\n",
    "time_segmentation = t2-t1"
   ]
  },
  {
   "cell_type": "code",
   "execution_count": 6,
   "metadata": {},
   "outputs": [
    {
     "data": {
      "text/plain": [
       "[<matplotlib.lines.Line2D at 0x1f8d37a67b8>]"
      ]
     },
     "execution_count": 6,
     "metadata": {},
     "output_type": "execute_result"
    },
    {
     "data": {
      "image/png": "[encoded data removed]",
      "text/plain": [
       "<Figure size 1440x144 with 1 Axes>"
      ]
     },
     "metadata": {
      "needs_background": "light"
     },
     "output_type": "display_data"
    }
   ],
   "source": [
    "# Make a plot of a segment\n",
    "os.chdir(notebook_directory)\n",
    "x = []\n",
    "for n in range(5,12):\n",
    "    for i in range(len(training_features_segmented[n])):\n",
    "        x.append(training_features_segmented[n][i])\n",
    "plt.figure(figsize=[20,2])\n",
    "plt.axis('off')\n",
    "plt.plot(x)\n",
    "# plt.savefig(\"raw_audio.png\")"
   ]
  },
  {
   "cell_type": "code",
   "execution_count": 7,
   "metadata": {},
   "outputs": [
    {
     "name": "stdout",
     "output_type": "stream",
     "text": [
      "Taking MFCC of test features...\n"
     ]
    },
    {
     "name": "stderr",
     "output_type": "stream",
     "text": [
      "100%|████████████████████████████████████████████████████████████████████████████████| 200/200 [01:42<00:00,  1.84it/s]\n"
     ]
    },
    {
     "name": "stdout",
     "output_type": "stream",
     "text": [
      "Taking MFCC of training features...\n"
     ]
    },
    {
     "name": "stderr",
     "output_type": "stream",
     "text": [
      "100%|█████████████████████████████████████████████████████████████████████████| 120039/120039 [06:47<00:00, 294.91it/s]\n"
     ]
    },
    {
     "name": "stdout",
     "output_type": "stream",
     "text": [
      "Training features shape: (120039, 128, 9)\n",
      "Testing features shape:  (200,)\n"
     ]
    }
   ],
   "source": [
    "t1 = time.time()\n",
    "\n",
    "# Get mfcc of testing samples\n",
    "print(\"Taking MFCC of test features...\")\n",
    "testing_features_mfcc = []\n",
    "for f in tqdm(testing_features_segmented):\n",
    "    segments = []\n",
    "    for s in f:\n",
    "        segments.append(mfcc(y=s, sr=sample_rate, n_mfcc=num_frequencies, fmax=max_frequency).tolist())\n",
    "    testing_features_mfcc.append(segments)\n",
    "\n",
    "# Get mfcc of training samples\n",
    "print(\"Taking MFCC of training features...\")\n",
    "training_features_mfcc = []\n",
    "for f in tqdm(training_features_segmented):\n",
    "    training_features_mfcc.append(mfcc(y=f, sr=sample_rate,n_mfcc=num_frequencies,fmax=max_frequency).tolist())\n",
    "\n",
    "print(\"Training features shape:\",np.shape(training_features_mfcc))\n",
    "print(\"Testing features shape: \",np.shape(testing_features_mfcc))\n",
    "\n",
    "t2 = time.time()\n",
    "time_mfcc = t2-t1"
   ]
  },
  {
   "cell_type": "code",
   "execution_count": 8,
   "metadata": {},
   "outputs": [
    {
     "data": {
      "text/plain": [
       "<matplotlib.axes._subplots.AxesSubplot at 0x1f8d37ea588>"
      ]
     },
     "execution_count": 8,
     "metadata": {},
     "output_type": "execute_result"
    },
    {
     "data": {
      "image/png": "[encoded data removed]",
      "text/plain": [
       "<Figure size 432x288 with 1 Axes>"
      ]
     },
     "metadata": {},
     "output_type": "display_data"
    }
   ],
   "source": [
    "librosa.display.specshow(np.array(training_features_mfcc[5]))\n",
    "# plt.savefig(\"mfcc_0.jpg\")"
   ]
  },
  {
   "cell_type": "code",
   "execution_count": 9,
   "metadata": {},
   "outputs": [
    {
     "name": "stdout",
     "output_type": "stream",
     "text": [
      "Initializing model...\n",
      "Train on 120039 samples\n",
      "Epoch 1/10\n",
      "120039/120039 - 38s - loss: 1.4320 - accuracy: 0.5192\n",
      "Epoch 2/10\n",
      "120039/120039 - 36s - loss: 1.0104 - accuracy: 0.6668\n",
      "Epoch 3/10\n",
      "120039/120039 - 36s - loss: 0.8847 - accuracy: 0.7271\n",
      "Epoch 4/10\n",
      "120039/120039 - 37s - loss: 0.6882 - accuracy: 0.7786\n",
      "Epoch 5/10\n",
      "120039/120039 - 38s - loss: 0.5948 - accuracy: 0.8124\n",
      "Epoch 6/10\n",
      "120039/120039 - 37s - loss: 0.7672 - accuracy: 0.8167\n",
      "Epoch 7/10\n",
      "120039/120039 - 37s - loss: 0.5012 - accuracy: 0.8442\n",
      "Epoch 8/10\n",
      "120039/120039 - 37s - loss: 0.5221 - accuracy: 0.8552\n",
      "Epoch 9/10\n",
      "120039/120039 - 37s - loss: 0.4030 - accuracy: 0.8767\n",
      "Epoch 10/10\n",
      "120039/120039 - 37s - loss: 0.3847 - accuracy: 0.8851\n"
     ]
    }
   ],
   "source": [
    "t1 = time.time()\n",
    "\n",
    "# Define Segment Model\n",
    "tf.random.set_seed(seed_tf)\n",
    "shape = np.shape(training_features_mfcc[0])\n",
    "n = shape[0]*shape[1]\n",
    "\n",
    "model = tf.keras.Sequential()\n",
    "model.add(tf.keras.layers.Flatten(input_shape=shape))\n",
    "model.add(tf.keras.layers.Dense(n,activation='elu'))\n",
    "model.add(tf.keras.layers.Dropout(0.1))\n",
    "model.add(tf.keras.layers.Dense(int(n/2),activation='elu'))\n",
    "model.add(tf.keras.layers.Dropout(0.1))\n",
    "model.add(tf.keras.layers.Dense(n/4,activation='elu'))\n",
    "model.add(tf.keras.layers.Dropout(0.1))\n",
    "model.add(tf.keras.layers.Dense(int(n/8),activation='elu'))\n",
    "model.add(tf.keras.layers.Dropout(0.1))\n",
    "model.add(tf.keras.layers.Dense(int(n/16),activation='elu'))\n",
    "model.add(tf.keras.layers.Dense(k, activation='softmax'))\n",
    "\n",
    "model.compile(optimizer='adam',\n",
    "              loss='sparse_categorical_crossentropy',\n",
    "              metrics=['accuracy'])\n",
    "\n",
    "#Fit segment model\n",
    "print(\"Initializing model...\")\n",
    "output_fit = model.fit(training_features_mfcc, training_classes_segmented, epochs=num_epochs, verbose=2)\n",
    "\n",
    "t2 = time.time()\n",
    "time_fit = t2-t1"
   ]
  },
  {
   "cell_type": "code",
   "execution_count": 10,
   "metadata": {},
   "outputs": [
    {
     "name": "stderr",
     "output_type": "stream",
     "text": [
      "100%|████████████████████████████████████████████████████████████████████████████████| 200/200 [00:55<00:00,  3.64it/s]\n"
     ]
    },
    {
     "name": "stdout",
     "output_type": "stream",
     "text": [
      "Segment accuracy: 0.5384743559836038\n",
      "\n",
      "blues 0.6073333333333333\n",
      "classical 0.8073975341552816\n",
      "country 0.49133333333333334\n",
      "disco 0.3955348217260913\n",
      "hiphop 0.4275241586137954\n",
      "jazz 0.6537949400798935\n",
      "metal 0.567\n",
      "pop 0.5033333333333333\n",
      "reggae 0.507\n",
      "rock 0.42433333333333334\n",
      "\n",
      "0.5384743559836038\n"
     ]
    }
   ],
   "source": [
    "# Compute segment accuracy\n",
    "num_correct = 0\n",
    "total = 0\n",
    "c = -1\n",
    "counts = np.zeros(len(genres))\n",
    "totals = np.zeros(len(genres))\n",
    "for a in tqdm(testing_features_mfcc):\n",
    "    c += 1\n",
    "    segment_predictions = model.predict(a)\n",
    "    for p in segment_predictions:\n",
    "        predicted_class = np.argmax(p)\n",
    "        actual_class = test_classes_full[c]\n",
    "        total += 1\n",
    "        totals[actual_class] += 1\n",
    "        if predicted_class == actual_class:\n",
    "            num_correct += 1\n",
    "            counts[actual_class] += 1\n",
    "            \n",
    "\n",
    "segment_accuracy = num_correct/total\n",
    "segment_accuracies = counts/totals\n",
    "print(\"Segment accuracy:\",segment_accuracy)\n",
    "print()\n",
    "for n in range(len(genres)):\n",
    "    print(genres[n], segment_accuracies[n])\n",
    "print()\n",
    "print(np.sum(counts)/np.sum(totals))\n"
   ]
  },
  {
   "cell_type": "code",
   "execution_count": 11,
   "metadata": {},
   "outputs": [
    {
     "name": "stdout",
     "output_type": "stream",
     "text": [
      "Evaluating model...\n"
     ]
    },
    {
     "name": "stderr",
     "output_type": "stream",
     "text": [
      "100%|████████████████████████████████████████████████████████████████████████████████| 200/200 [00:55<00:00,  3.66it/s]\n"
     ]
    },
    {
     "name": "stdout",
     "output_type": "stream",
     "text": [
      "Testing accuracy: 0.81\n",
      "Testing time:     55.65118956565857\n"
     ]
    }
   ],
   "source": [
    "# Predict test model using equal voting\n",
    "# Testing features shape: (a,b,c,d)\n",
    "# a: Number of samples\n",
    "# b: Number of segments\n",
    "# c: First dimension of mfcc\n",
    "# d: Second dimension of mfcc\n",
    "\n",
    "t1 = time.time()\n",
    "\n",
    "print(\"Evaluating model...\")\n",
    "predictions = []\n",
    "distributions = []\n",
    "for a in tqdm(testing_features_mfcc):\n",
    "    counts = np.zeros(k,dtype=int)\n",
    "    segment_predictions = np.argmax(model.predict(a), axis=1)\n",
    "    for p in segment_predictions:\n",
    "        counts[p] += 1\n",
    "    distributions.append(counts)\n",
    "    predictions.append(np.argmax(counts))\n",
    "\n",
    "distributions = np.array(distributions)\n",
    "predictions = np.array(predictions)\n",
    "truth = (predictions == test_classes_full)\n",
    "accuracy = np.sum(truth)/len(predictions)\n",
    "confidence = np.round(distributions/np.sum(distributions,axis=1)[:,np.newaxis],2)\n",
    "\n",
    "t2 = time.time()\n",
    "time_predict = t2-t1\n",
    "\n",
    "print(\"Testing accuracy:\", accuracy)\n",
    "print(\"Testing time:    \", time_predict)"
   ]
  },
  {
   "cell_type": "code",
   "execution_count": 12,
   "metadata": {},
   "outputs": [
    {
     "name": "stdout",
     "output_type": "stream",
     "text": [
      "0.6287037037037037 0.21252781630255357\n",
      "0.38894736842105265 0.12443111545379153\n"
     ]
    },
    {
     "data": {
      "image/png": "[encoded data removed]",
      "text/plain": [
       "<Figure size 2400x1600 with 1 Axes>"
      ]
     },
     "metadata": {
      "needs_background": "light"
     },
     "output_type": "display_data"
    }
   ],
   "source": [
    "# Calculate accuracies\n",
    "counts = np.zeros(len(genres))\n",
    "totals = np.zeros(len(genres),dtype=int)\n",
    "for n in range(len(test_classes_full)):\n",
    "    c = test_classes_full[n]\n",
    "    totals[c] += 1\n",
    "    if predictions[n] == c:\n",
    "        counts[c] += 1\n",
    "accuracy_g = counts/totals\n",
    "\n",
    "# Calculate confidences\n",
    "true_confidences = []\n",
    "false_confidences = []\n",
    "for n in range(len(truth)):\n",
    "    if truth[n]:\n",
    "        true_confidences.append(np.max(confidence[n]))\n",
    "    else:\n",
    "        false_confidences.append(np.max(confidence[n]))\n",
    "\n",
    "true_confidences = np.array(true_confidences)\n",
    "false_confidences = np.array(false_confidences)\n",
    "        \n",
    "# Calculate average confidences\n",
    "true_mean = np.average(true_confidences)\n",
    "true_std = np.std(true_confidences)\n",
    "false_mean = np.average(false_confidences)\n",
    "false_std = np.std(false_confidences)\n",
    "\n",
    "print(true_mean,true_std)\n",
    "print(false_mean,false_std)\n",
    "\n",
    "plt.figure(dpi=400)\n",
    "plt.hist(true_confidences)\n",
    "plt.hist(false_confidences)\n",
    "plt.title(\"Confidence Histogram\")\n",
    "plt.xlabel(\"Confidence\")\n",
    "plt.ylabel(\"Count\")\n",
    "plt.legend([\"True\",\"False\"])\n",
    "plt.savefig(\"histogram\")\n",
    "plt.show()"
   ]
  },
  {
   "cell_type": "code",
   "execution_count": 13,
   "metadata": {},
   "outputs": [
    {
     "name": "stdout",
     "output_type": "stream",
     "text": [
      "Evaluating model...\n"
     ]
    },
    {
     "name": "stderr",
     "output_type": "stream",
     "text": [
      "100%|████████████████████████████████████████████████████████████████████████████████| 200/200 [01:50<00:00,  1.79it/s]\n"
     ]
    },
    {
     "name": "stdout",
     "output_type": "stream",
     "text": [
      "Testing accuracy: 0.81\n",
      "Testing time:     110.81377005577087\n"
     ]
    }
   ],
   "source": [
    "# Predict test model using weighted voting\n",
    "# Testing features shape: (a,b,c,d)\n",
    "# a: Number of samples\n",
    "# b: Number of segments\n",
    "# c: First dimension of mfcc\n",
    "# d: Second dimension of mfcc\n",
    "\n",
    "t1 = time.time()\n",
    "\n",
    "print(\"Evaluating model...\")\n",
    "predictions = []\n",
    "distributions = []\n",
    "for a in tqdm(testing_features_mfcc):\n",
    "    counts = np.zeros(k)\n",
    "    segment_confidences = np.max(model.predict(a), axis=1)\n",
    "    segment_predictions = np.argmax(model.predict(a), axis=1)\n",
    "    for n in range(len(segment_predictions)):\n",
    "        counts[segment_predictions[n]] += segment_confidences[n]\n",
    "    distributions.append(counts)\n",
    "    predictions.append(np.argmax(counts))\n",
    "\n",
    "distributions = np.array(distributions)\n",
    "predictions = np.array(predictions)\n",
    "truth = (predictions == test_classes_full)\n",
    "weighted_accuracy = np.sum(truth)/len(predictions)\n",
    "confidence = np.round(distributions/np.sum(distributions,axis=1)[:,np.newaxis],2)\n",
    "\n",
    "t2 = time.time()\n",
    "time_predict = t2-t1\n",
    "\n",
    "print(\"Testing accuracy:\", weighted_accuracy)\n",
    "print(\"Testing time:    \", time_predict)"
   ]
  },
  {
   "cell_type": "code",
   "execution_count": null,
   "metadata": {},
   "outputs": [],
   "source": []
  },
  {
   "cell_type": "code",
   "execution_count": 14,
   "metadata": {},
   "outputs": [
    {
     "name": "stdout",
     "output_type": "stream",
     "text": [
      "0.662962962962963 0.21255032487287928\n",
      "0.4144736842105263 0.13482341996343633\n"
     ]
    },
    {
     "data": {
      "image/png": "[encoded data removed]",
      "text/plain": [
       "<Figure size 432x288 with 1 Axes>"
      ]
     },
     "metadata": {
      "needs_background": "light"
     },
     "output_type": "display_data"
    }
   ],
   "source": [
    "# Calculate accuracies\n",
    "counts = np.zeros(len(genres))\n",
    "totals = np.zeros(len(genres),dtype=int)\n",
    "for n in range(len(test_classes_full)):\n",
    "    c = test_classes_full[n]\n",
    "    totals[c] += 1\n",
    "    if predictions[n] == c:\n",
    "        counts[c] += 1\n",
    "accuracy_g = counts/totals\n",
    "\n",
    "# Calculate confidences\n",
    "true_confidences = []\n",
    "false_confidences = []\n",
    "for n in range(len(truth)):\n",
    "    if truth[n]:\n",
    "        true_confidences.append(np.max(confidence[n]))\n",
    "    else:\n",
    "        false_confidences.append(np.max(confidence[n]))\n",
    "\n",
    "true_confidences = np.array(true_confidences)\n",
    "false_confidences = np.array(false_confidences)\n",
    "        \n",
    "# Calculate average confidences\n",
    "true_mean = np.average(true_confidences)\n",
    "true_std = np.std(true_confidences)\n",
    "false_mean = np.average(false_confidences)\n",
    "false_std = np.std(false_confidences)\n",
    "\n",
    "print(true_mean,true_std)\n",
    "print(false_mean,false_std)\n",
    "\n",
    "plt.figure()\n",
    "plt.hist(true_confidences)\n",
    "plt.hist(false_confidences)\n",
    "plt.show()"
   ]
  },
  {
   "cell_type": "code",
   "execution_count": 15,
   "metadata": {},
   "outputs": [
    {
     "name": "stdout",
     "output_type": "stream",
     "text": [
      "#============ Model Information ============#\n",
      "Genres: ['blues', 'classical', 'country', 'disco', 'hiphop', 'jazz', 'metal', 'pop', 'reggae', 'rock']\n",
      "Training percentage:  0.8\n",
      "Segment width:        0.2\n",
      "Number of frequencies 128\n",
      "Maximum frequency     4000\n",
      "Number of epochs      10\n",
      "Seed np:              0\n",
      "Seed tf:              4\n",
      "\n",
      "#============ Accuracy Information ============#\n",
      "Overall Accuracy:  0.81\n",
      "Weighted Accuracy: 0.81\n",
      "Segment Accuracy:  0.5384743559836038\n",
      "True Confidence:   0.662962962962963 0.21255032487287928\n",
      "False Confidence:  0.4144736842105263 0.13482341996343633\n",
      "\n",
      "blues accuracy: 0.85\n",
      "classical accuracy: 0.95\n",
      "country accuracy: 0.85\n",
      "disco accuracy: 0.75\n",
      "hiphop accuracy: 0.75\n",
      "jazz accuracy: 0.95\n",
      "metal accuracy: 0.7\n",
      "pop accuracy: 0.8\n",
      "reggae accuracy: 0.7\n",
      "rock accuracy: 0.8\n",
      "\n",
      "#============ Timing Information Raw ============#\n",
      "Data loading:     16.03 seconds\n",
      "Train/Test Split: 0.05 seconds\n",
      "Segmentation:     0.35 seconds\n",
      "Applying MFCC:    518.26 seconds\n",
      "Fitting Model:    660.15 seconds\n",
      "Predictions:      110.81 seconds\n",
      "\n",
      "#============ Timing Information Condensed ============#\n",
      "Pre-Processing: 534.6899999999999 seconds\n",
      "Training Time:  660.15 seconds\n",
      "Testing Time:   110.81 seconds\n"
     ]
    }
   ],
   "source": [
    "# Show data\n",
    "print(\"#============ Model Information ============#\")\n",
    "print(\"Genres:\",genres)\n",
    "print(\"Training percentage: \",train_split)\n",
    "print(\"Segment width:       \",segment_width)\n",
    "print(\"Number of frequencies\",num_frequencies)\n",
    "print(\"Maximum frequency    \",max_frequency)\n",
    "print(\"Number of epochs     \",num_epochs)\n",
    "print(\"Seed np:             \",seed_np)\n",
    "print(\"Seed tf:             \",seed_tf)\n",
    "print()\n",
    "\n",
    "print(\"#============ Accuracy Information ============#\")\n",
    "print(\"Overall Accuracy: \", accuracy)\n",
    "print(\"Weighted Accuracy:\", weighted_accuracy)\n",
    "print(\"Segment Accuracy: \", segment_accuracy)\n",
    "print(\"True Confidence:  \", true_mean, true_std)\n",
    "print(\"False Confidence: \", false_mean, false_std)\n",
    "\n",
    "print()\n",
    "for n in range(len(genres)):\n",
    "    print(genres[n],\"accuracy:\",accuracy_g[n])\n",
    "print()\n",
    "\n",
    "print(\"#============ Timing Information Raw ============#\")\n",
    "t1 = np.round(time_loading,2)\n",
    "t2 = np.round(time_train_test_split,2)\n",
    "t3 = np.round(time_segmentation,2)\n",
    "t4 = np.round(time_mfcc,2)\n",
    "t5 = np.round(time_fit,2)\n",
    "t6 = np.round(time_predict,2)\n",
    "print(\"Data loading:    \",t1,\"seconds\")\n",
    "print(\"Train/Test Split:\",t2,\"seconds\")\n",
    "print(\"Segmentation:    \",t3,\"seconds\")\n",
    "print(\"Applying MFCC:   \",t4,\"seconds\")\n",
    "print(\"Fitting Model:   \",t5,\"seconds\")\n",
    "print(\"Predictions:     \",t6,\"seconds\")\n",
    "print()\n",
    "\n",
    "print(\"#============ Timing Information Condensed ============#\")\n",
    "print(\"Pre-Processing:\",t1+t2+t3+t4,\"seconds\")\n",
    "print(\"Training Time: \",t5,\"seconds\")\n",
    "print(\"Testing Time:  \",t6,\"seconds\")"
   ]
  },
  {
   "cell_type": "code",
   "execution_count": 16,
   "metadata": {},
   "outputs": [
    {
     "name": "stdout",
     "output_type": "stream",
     "text": [
      "Predicted:  3 disco\n",
      "Actual:     0 blues\n",
      "Confidence: [0.08 0.   0.   0.39 0.01 0.01 0.02 0.31 0.12 0.06]\n",
      "\n",
      "Predicted:  5 jazz\n",
      "Actual:     0 blues\n",
      "Confidence: [0.12 0.2  0.   0.   0.03 0.28 0.   0.05 0.17 0.13]\n",
      "\n",
      "Predicted:  2 country\n",
      "Actual:     0 blues\n",
      "Confidence: [0.09 0.2  0.51 0.02 0.01 0.07 0.   0.03 0.01 0.07]\n",
      "\n",
      "Predicted:  5 jazz\n",
      "Actual:     1 classical\n",
      "Confidence: [0.11 0.12 0.14 0.15 0.   0.29 0.   0.04 0.01 0.13]\n",
      "\n",
      "Predicted:  9 rock\n",
      "Actual:     2 country\n",
      "Confidence: [0.17 0.   0.12 0.03 0.01 0.09 0.01 0.08 0.21 0.27]\n",
      "\n",
      "Predicted:  5 jazz\n",
      "Actual:     2 country\n",
      "Confidence: [0.03 0.01 0.03 0.04 0.01 0.66 0.   0.01 0.17 0.04]\n",
      "\n",
      "Predicted:  9 rock\n",
      "Actual:     2 country\n",
      "Confidence: [0.06 0.   0.35 0.03 0.01 0.03 0.07 0.   0.06 0.38]\n",
      "\n",
      "Predicted:  2 country\n",
      "Actual:     3 disco\n",
      "Confidence: [0.01 0.   0.46 0.24 0.   0.01 0.01 0.11 0.05 0.12]\n",
      "\n",
      "Predicted:  7 pop\n",
      "Actual:     3 disco\n",
      "Confidence: [0.01 0.   0.07 0.2  0.08 0.04 0.09 0.31 0.01 0.19]\n",
      "\n",
      "Predicted:  7 pop\n",
      "Actual:     3 disco\n",
      "Confidence: [0.   0.   0.   0.12 0.1  0.   0.02 0.76 0.   0.  ]\n",
      "\n",
      "Predicted:  9 rock\n",
      "Actual:     3 disco\n",
      "Confidence: [0.02 0.03 0.1  0.11 0.08 0.02 0.02 0.16 0.1  0.36]\n",
      "\n",
      "Predicted:  9 rock\n",
      "Actual:     3 disco\n",
      "Confidence: [0.2  0.   0.11 0.09 0.13 0.01 0.04 0.01 0.14 0.27]\n",
      "\n",
      "Predicted:  3 disco\n",
      "Actual:     4 hiphop\n",
      "Confidence: [0.   0.03 0.   0.44 0.01 0.   0.05 0.07 0.3  0.1 ]\n",
      "\n",
      "Predicted:  7 pop\n",
      "Actual:     4 hiphop\n",
      "Confidence: [0.01 0.   0.01 0.03 0.2  0.   0.01 0.66 0.02 0.05]\n",
      "\n",
      "Predicted:  7 pop\n",
      "Actual:     4 hiphop\n",
      "Confidence: [0.08 0.   0.   0.08 0.18 0.   0.06 0.47 0.02 0.12]\n",
      "\n",
      "Predicted:  8 reggae\n",
      "Actual:     4 hiphop\n",
      "Confidence: [0.01 0.01 0.   0.06 0.16 0.   0.01 0.19 0.51 0.05]\n",
      "\n",
      "Predicted:  2 country\n",
      "Actual:     4 hiphop\n",
      "Confidence: [0.02 0.   0.36 0.   0.18 0.   0.13 0.02 0.01 0.28]\n",
      "\n",
      "Predicted:  6 metal\n",
      "Actual:     5 jazz\n",
      "Confidence: [0.01 0.   0.01 0.08 0.15 0.04 0.37 0.16 0.01 0.17]\n",
      "\n",
      "Predicted:  4 hiphop\n",
      "Actual:     6 metal\n",
      "Confidence: [0.01 0.   0.01 0.09 0.2  0.15 0.12 0.02 0.2  0.2 ]\n",
      "\n",
      "Predicted:  0 blues\n",
      "Actual:     6 metal\n",
      "Confidence: [0.29 0.   0.02 0.18 0.02 0.03 0.06 0.26 0.   0.14]\n",
      "\n",
      "Predicted:  9 rock\n",
      "Actual:     6 metal\n",
      "Confidence: [0.01 0.   0.18 0.15 0.04 0.   0.15 0.05 0.   0.43]\n",
      "\n",
      "Predicted:  3 disco\n",
      "Actual:     6 metal\n",
      "Confidence: [0.03 0.   0.07 0.27 0.05 0.09 0.15 0.01 0.13 0.2 ]\n",
      "\n",
      "Predicted:  8 reggae\n",
      "Actual:     6 metal\n",
      "Confidence: [0.   0.   0.01 0.05 0.18 0.03 0.18 0.   0.31 0.24]\n",
      "\n",
      "Predicted:  9 rock\n",
      "Actual:     6 metal\n",
      "Confidence: [0.03 0.   0.05 0.04 0.01 0.   0.35 0.09 0.   0.44]\n",
      "\n",
      "Predicted:  4 hiphop\n",
      "Actual:     7 pop\n",
      "Confidence: [0.13 0.   0.01 0.23 0.24 0.   0.04 0.16 0.01 0.18]\n",
      "\n",
      "Predicted:  3 disco\n",
      "Actual:     7 pop\n",
      "Confidence: [0.   0.03 0.03 0.32 0.09 0.02 0.04 0.24 0.14 0.07]\n",
      "\n",
      "Predicted:  9 rock\n",
      "Actual:     7 pop\n",
      "Confidence: [0.07 0.01 0.09 0.3  0.01 0.07 0.01 0.05 0.06 0.31]\n",
      "\n",
      "Predicted:  2 country\n",
      "Actual:     7 pop\n",
      "Confidence: [0.07 0.01 0.54 0.05 0.01 0.   0.   0.03 0.04 0.27]\n",
      "\n",
      "Predicted:  4 hiphop\n",
      "Actual:     8 reggae\n",
      "Confidence: [0.01 0.   0.02 0.03 0.54 0.04 0.04 0.01 0.28 0.05]\n",
      "\n",
      "Predicted:  4 hiphop\n",
      "Actual:     8 reggae\n",
      "Confidence: [0.06 0.   0.   0.02 0.55 0.01 0.02 0.09 0.14 0.11]\n",
      "\n",
      "Predicted:  9 rock\n",
      "Actual:     8 reggae\n",
      "Confidence: [0.02 0.   0.07 0.29 0.14 0.   0.02 0.   0.01 0.45]\n",
      "\n",
      "Predicted:  7 pop\n",
      "Actual:     8 reggae\n",
      "Confidence: [0.09 0.   0.   0.03 0.06 0.   0.01 0.67 0.07 0.07]\n",
      "\n",
      "Predicted:  5 jazz\n",
      "Actual:     8 reggae\n",
      "Confidence: [0.02 0.16 0.09 0.06 0.01 0.34 0.   0.06 0.13 0.14]\n",
      "\n",
      "Predicted:  7 pop\n",
      "Actual:     8 reggae\n",
      "Confidence: [0.01 0.   0.04 0.04 0.03 0.   0.   0.6  0.25 0.02]\n",
      "\n",
      "Predicted:  3 disco\n",
      "Actual:     9 rock\n",
      "Confidence: [0.04 0.01 0.08 0.26 0.07 0.01 0.2  0.04 0.04 0.25]\n",
      "\n",
      "Predicted:  3 disco\n",
      "Actual:     9 rock\n",
      "Confidence: [0.   0.   0.3  0.36 0.   0.   0.11 0.   0.01 0.21]\n",
      "\n",
      "Predicted:  2 country\n",
      "Actual:     9 rock\n",
      "Confidence: [0.   0.   0.47 0.11 0.   0.03 0.   0.02 0.02 0.36]\n",
      "\n",
      "Predicted:  5 jazz\n",
      "Actual:     9 rock\n",
      "Confidence: [0.05 0.17 0.12 0.02 0.   0.41 0.   0.   0.09 0.13]\n",
      "\n"
     ]
    }
   ],
   "source": [
    "# Look at what's wrong\n",
    "for n in range(len(truth)):\n",
    "    if truth[n]:\n",
    "        continue\n",
    "    print(\"Predicted: \",predictions[n], genres[predictions[n]])\n",
    "    print(\"Actual:    \",test_classes_full[n], genres[test_classes_full[n]])\n",
    "    print(\"Confidence:\",confidence[n])\n",
    "    print()"
   ]
  },
  {
   "cell_type": "code",
   "execution_count": 17,
   "metadata": {},
   "outputs": [
    {
     "data": {
      "text/plain": [
       "'\\n# Save model\\nmodel.summary()\\ntf.saved_model.save(model, model_directory)\\n'"
      ]
     },
     "execution_count": 17,
     "metadata": {},
     "output_type": "execute_result"
    }
   ],
   "source": [
    "'''\n",
    "# Save model\n",
    "model.summary()\n",
    "tf.saved_model.save(model, model_directory)\n",
    "'''"
   ]
  },
  {
   "cell_type": "code",
   "execution_count": 18,
   "metadata": {},
   "outputs": [
    {
     "data": {
      "text/plain": [
       "'\\nos.chdir(notebook_directory)\\nnp.savez(\"training_features.npz\",training_features_mfcc)\\nnp.savez(\"training_classes.npz\",training_classes_segmented)\\nnp.savez(\"testing_features.npz\",testing_features_mfcc)\\nnp.savez(\"testing_classes.npz\",test_classes_full)\\n'"
      ]
     },
     "execution_count": 18,
     "metadata": {},
     "output_type": "execute_result"
    }
   ],
   "source": [
    "'''\n",
    "os.chdir(notebook_directory)\n",
    "np.savez(\"training_features.npz\",training_features_mfcc)\n",
    "np.savez(\"training_classes.npz\",training_classes_segmented)\n",
    "np.savez(\"testing_features.npz\",testing_features_mfcc)\n",
    "np.savez(\"testing_classes.npz\",test_classes_full)\n",
    "'''"
   ]
  },
  {
   "cell_type": "code",
   "execution_count": null,
   "metadata": {},
   "outputs": [],
   "source": []
  },
  {
   "cell_type": "code",
   "execution_count": null,
   "metadata": {},
   "outputs": [],
   "source": []
  },
  {
   "cell_type": "code",
   "execution_count": null,
   "metadata": {},
   "outputs": [],
   "source": []
  }
 ],
 "metadata": {
  "kernelspec": {
   "display_name": "Python 3",
   "language": "python",
   "name": "python3"
  },
  "language_info": {
   "codemirror_mode": {
    "name": "ipython",
    "version": 3
   },
   "file_extension": ".py",
   "mimetype": "text/x-python",
   "name": "python",
   "nbconvert_exporter": "python",
   "pygments_lexer": "ipython3",
   "version": "3.7.3"
  }
 },
 "nbformat": 4,
 "nbformat_minor": 2
}
